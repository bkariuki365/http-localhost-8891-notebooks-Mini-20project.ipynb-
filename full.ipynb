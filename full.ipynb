{
 "cells": [
  {
   "cell_type": "code",
   "execution_count": 1,
   "metadata": {},
   "outputs": [],
   "source": [
    "import pandas as pd \n",
    "import numpy as np\n",
    "import matplotlib as mpl\n",
    "import matplotlib.pyplot as plt"
   ]
  },
  {
   "cell_type": "code",
   "execution_count": null,
   "metadata": {},
   "outputs": [],
   "source": []
  },
  {
   "cell_type": "code",
   "execution_count": 2,
   "metadata": {},
   "outputs": [],
   "source": [
    "pd.set_option('display.max_rows',500)\n",
    "pd.set_option('display.max_rows',500)\n"
   ]
  },
  {
   "cell_type": "code",
   "execution_count": 3,
   "metadata": {},
   "outputs": [
    {
     "data": {
      "text/html": [
       "<div>\n",
       "<style scoped>\n",
       "    .dataframe tbody tr th:only-of-type {\n",
       "        vertical-align: middle;\n",
       "    }\n",
       "\n",
       "    .dataframe tbody tr th {\n",
       "        vertical-align: top;\n",
       "    }\n",
       "\n",
       "    .dataframe thead th {\n",
       "        text-align: right;\n",
       "    }\n",
       "</style>\n",
       "<table border=\"1\" class=\"dataframe\">\n",
       "  <thead>\n",
       "    <tr style=\"text-align: right;\">\n",
       "      <th></th>\n",
       "      <th>Country Name</th>\n",
       "      <th>Country ISO3</th>\n",
       "      <th>Year</th>\n",
       "      <th>Indicator Name</th>\n",
       "      <th>Indicator Code</th>\n",
       "      <th>Value</th>\n",
       "    </tr>\n",
       "  </thead>\n",
       "  <tbody>\n",
       "    <tr>\n",
       "      <th>0</th>\n",
       "      <td>#country+name</td>\n",
       "      <td>#country+code</td>\n",
       "      <td>#date+year</td>\n",
       "      <td>#indicator+name</td>\n",
       "      <td>#indicator+code</td>\n",
       "      <td>#indicator+value+num</td>\n",
       "    </tr>\n",
       "    <tr>\n",
       "      <th>1</th>\n",
       "      <td>Kenya</td>\n",
       "      <td>KEN</td>\n",
       "      <td>2018</td>\n",
       "      <td>Firms with female top manager (% of firms)</td>\n",
       "      <td>IC.FRM.FEMM.ZS</td>\n",
       "      <td>18.1</td>\n",
       "    </tr>\n",
       "    <tr>\n",
       "      <th>2</th>\n",
       "      <td>Kenya</td>\n",
       "      <td>KEN</td>\n",
       "      <td>2013</td>\n",
       "      <td>Firms with female top manager (% of firms)</td>\n",
       "      <td>IC.FRM.FEMM.ZS</td>\n",
       "      <td>13.4</td>\n",
       "    </tr>\n",
       "    <tr>\n",
       "      <th>3</th>\n",
       "      <td>Kenya</td>\n",
       "      <td>KEN</td>\n",
       "      <td>2018</td>\n",
       "      <td>Firms with female participation in ownership (...</td>\n",
       "      <td>IC.FRM.FEMO.ZS</td>\n",
       "      <td>47.5</td>\n",
       "    </tr>\n",
       "    <tr>\n",
       "      <th>4</th>\n",
       "      <td>Kenya</td>\n",
       "      <td>KEN</td>\n",
       "      <td>2013</td>\n",
       "      <td>Firms with female participation in ownership (...</td>\n",
       "      <td>IC.FRM.FEMO.ZS</td>\n",
       "      <td>48.7</td>\n",
       "    </tr>\n",
       "    <tr>\n",
       "      <th>...</th>\n",
       "      <td>...</td>\n",
       "      <td>...</td>\n",
       "      <td>...</td>\n",
       "      <td>...</td>\n",
       "      <td>...</td>\n",
       "      <td>...</td>\n",
       "    </tr>\n",
       "    <tr>\n",
       "      <th>5398</th>\n",
       "      <td>Kenya</td>\n",
       "      <td>KEN</td>\n",
       "      <td>1964</td>\n",
       "      <td>Age population, age 05, male, interpolated</td>\n",
       "      <td>SP.POP.AG05.MA.IN</td>\n",
       "      <td>157641</td>\n",
       "    </tr>\n",
       "    <tr>\n",
       "      <th>5399</th>\n",
       "      <td>Kenya</td>\n",
       "      <td>KEN</td>\n",
       "      <td>1963</td>\n",
       "      <td>Age population, age 05, male, interpolated</td>\n",
       "      <td>SP.POP.AG05.MA.IN</td>\n",
       "      <td>153034</td>\n",
       "    </tr>\n",
       "    <tr>\n",
       "      <th>5400</th>\n",
       "      <td>Kenya</td>\n",
       "      <td>KEN</td>\n",
       "      <td>1962</td>\n",
       "      <td>Age population, age 05, male, interpolated</td>\n",
       "      <td>SP.POP.AG05.MA.IN</td>\n",
       "      <td>148364</td>\n",
       "    </tr>\n",
       "    <tr>\n",
       "      <th>5401</th>\n",
       "      <td>Kenya</td>\n",
       "      <td>KEN</td>\n",
       "      <td>1961</td>\n",
       "      <td>Age population, age 05, male, interpolated</td>\n",
       "      <td>SP.POP.AG05.MA.IN</td>\n",
       "      <td>143362</td>\n",
       "    </tr>\n",
       "    <tr>\n",
       "      <th>5402</th>\n",
       "      <td>Kenya</td>\n",
       "      <td>KEN</td>\n",
       "      <td>1960</td>\n",
       "      <td>Age population, age 05, male, interpolated</td>\n",
       "      <td>SP.POP.AG05.MA.IN</td>\n",
       "      <td>137867</td>\n",
       "    </tr>\n",
       "  </tbody>\n",
       "</table>\n",
       "<p>5403 rows × 6 columns</p>\n",
       "</div>"
      ],
      "text/plain": [
       "       Country Name   Country ISO3        Year  \\\n",
       "0     #country+name  #country+code  #date+year   \n",
       "1             Kenya            KEN        2018   \n",
       "2             Kenya            KEN        2013   \n",
       "3             Kenya            KEN        2018   \n",
       "4             Kenya            KEN        2013   \n",
       "...             ...            ...         ...   \n",
       "5398          Kenya            KEN        1964   \n",
       "5399          Kenya            KEN        1963   \n",
       "5400          Kenya            KEN        1962   \n",
       "5401          Kenya            KEN        1961   \n",
       "5402          Kenya            KEN        1960   \n",
       "\n",
       "                                         Indicator Name     Indicator Code  \\\n",
       "0                                       #indicator+name    #indicator+code   \n",
       "1            Firms with female top manager (% of firms)     IC.FRM.FEMM.ZS   \n",
       "2            Firms with female top manager (% of firms)     IC.FRM.FEMM.ZS   \n",
       "3     Firms with female participation in ownership (...     IC.FRM.FEMO.ZS   \n",
       "4     Firms with female participation in ownership (...     IC.FRM.FEMO.ZS   \n",
       "...                                                 ...                ...   \n",
       "5398         Age population, age 05, male, interpolated  SP.POP.AG05.MA.IN   \n",
       "5399         Age population, age 05, male, interpolated  SP.POP.AG05.MA.IN   \n",
       "5400         Age population, age 05, male, interpolated  SP.POP.AG05.MA.IN   \n",
       "5401         Age population, age 05, male, interpolated  SP.POP.AG05.MA.IN   \n",
       "5402         Age population, age 05, male, interpolated  SP.POP.AG05.MA.IN   \n",
       "\n",
       "                     Value  \n",
       "0     #indicator+value+num  \n",
       "1                     18.1  \n",
       "2                     13.4  \n",
       "3                     47.5  \n",
       "4                     48.7  \n",
       "...                    ...  \n",
       "5398                157641  \n",
       "5399                153034  \n",
       "5400                148364  \n",
       "5401                143362  \n",
       "5402                137867  \n",
       "\n",
       "[5403 rows x 6 columns]"
      ]
     },
     "execution_count": 3,
     "metadata": {},
     "output_type": "execute_result"
    }
   ],
   "source": [
    "gender_df=pd.read_csv('gender_ken.csv')\n",
    "\n",
    "gender_df"
   ]
  },
  {
   "cell_type": "code",
   "execution_count": null,
   "metadata": {},
   "outputs": [],
   "source": []
  },
  {
   "cell_type": "code",
   "execution_count": null,
   "metadata": {},
   "outputs": [],
   "source": []
  },
  {
   "cell_type": "code",
   "execution_count": null,
   "metadata": {},
   "outputs": [],
   "source": []
  },
  {
   "cell_type": "code",
   "execution_count": 4,
   "metadata": {},
   "outputs": [
    {
     "data": {
      "text/html": [
       "<div>\n",
       "<style scoped>\n",
       "    .dataframe tbody tr th:only-of-type {\n",
       "        vertical-align: middle;\n",
       "    }\n",
       "\n",
       "    .dataframe tbody tr th {\n",
       "        vertical-align: top;\n",
       "    }\n",
       "\n",
       "    .dataframe thead th {\n",
       "        text-align: right;\n",
       "    }\n",
       "</style>\n",
       "<table border=\"1\" class=\"dataframe\">\n",
       "  <thead>\n",
       "    <tr style=\"text-align: right;\">\n",
       "      <th></th>\n",
       "      <th>Country Name</th>\n",
       "      <th>Country ISO3</th>\n",
       "      <th>Year</th>\n",
       "      <th>Indicator Name</th>\n",
       "      <th>Indicator Code</th>\n",
       "      <th>Value</th>\n",
       "    </tr>\n",
       "  </thead>\n",
       "  <tbody>\n",
       "    <tr>\n",
       "      <th>0</th>\n",
       "      <td>#country+name</td>\n",
       "      <td>#country+code</td>\n",
       "      <td>#date+year</td>\n",
       "      <td>#indicator+name</td>\n",
       "      <td>#indicator+code</td>\n",
       "      <td>#indicator+value+num</td>\n",
       "    </tr>\n",
       "    <tr>\n",
       "      <th>1</th>\n",
       "      <td>Kenya</td>\n",
       "      <td>KEN</td>\n",
       "      <td>2018</td>\n",
       "      <td>Firms with female top manager (% of firms)</td>\n",
       "      <td>IC.FRM.FEMM.ZS</td>\n",
       "      <td>18.1</td>\n",
       "    </tr>\n",
       "    <tr>\n",
       "      <th>2</th>\n",
       "      <td>Kenya</td>\n",
       "      <td>KEN</td>\n",
       "      <td>2013</td>\n",
       "      <td>Firms with female top manager (% of firms)</td>\n",
       "      <td>IC.FRM.FEMM.ZS</td>\n",
       "      <td>13.4</td>\n",
       "    </tr>\n",
       "    <tr>\n",
       "      <th>3</th>\n",
       "      <td>Kenya</td>\n",
       "      <td>KEN</td>\n",
       "      <td>2018</td>\n",
       "      <td>Firms with female participation in ownership (...</td>\n",
       "      <td>IC.FRM.FEMO.ZS</td>\n",
       "      <td>47.5</td>\n",
       "    </tr>\n",
       "    <tr>\n",
       "      <th>4</th>\n",
       "      <td>Kenya</td>\n",
       "      <td>KEN</td>\n",
       "      <td>2013</td>\n",
       "      <td>Firms with female participation in ownership (...</td>\n",
       "      <td>IC.FRM.FEMO.ZS</td>\n",
       "      <td>48.7</td>\n",
       "    </tr>\n",
       "  </tbody>\n",
       "</table>\n",
       "</div>"
      ],
      "text/plain": [
       "    Country Name   Country ISO3        Year  \\\n",
       "0  #country+name  #country+code  #date+year   \n",
       "1          Kenya            KEN        2018   \n",
       "2          Kenya            KEN        2013   \n",
       "3          Kenya            KEN        2018   \n",
       "4          Kenya            KEN        2013   \n",
       "\n",
       "                                      Indicator Name   Indicator Code  \\\n",
       "0                                    #indicator+name  #indicator+code   \n",
       "1         Firms with female top manager (% of firms)   IC.FRM.FEMM.ZS   \n",
       "2         Firms with female top manager (% of firms)   IC.FRM.FEMM.ZS   \n",
       "3  Firms with female participation in ownership (...   IC.FRM.FEMO.ZS   \n",
       "4  Firms with female participation in ownership (...   IC.FRM.FEMO.ZS   \n",
       "\n",
       "                  Value  \n",
       "0  #indicator+value+num  \n",
       "1                  18.1  \n",
       "2                  13.4  \n",
       "3                  47.5  \n",
       "4                  48.7  "
      ]
     },
     "execution_count": 4,
     "metadata": {},
     "output_type": "execute_result"
    }
   ],
   "source": [
    "gender_df.head()"
   ]
  },
  {
   "cell_type": "code",
   "execution_count": 5,
   "metadata": {},
   "outputs": [
    {
     "data": {
      "text/plain": [
       "<bound method NDFrame.tail of        Country Name   Country ISO3        Year  \\\n",
       "0     #country+name  #country+code  #date+year   \n",
       "1             Kenya            KEN        2018   \n",
       "2             Kenya            KEN        2013   \n",
       "3             Kenya            KEN        2018   \n",
       "4             Kenya            KEN        2013   \n",
       "...             ...            ...         ...   \n",
       "5398          Kenya            KEN        1964   \n",
       "5399          Kenya            KEN        1963   \n",
       "5400          Kenya            KEN        1962   \n",
       "5401          Kenya            KEN        1961   \n",
       "5402          Kenya            KEN        1960   \n",
       "\n",
       "                                         Indicator Name     Indicator Code  \\\n",
       "0                                       #indicator+name    #indicator+code   \n",
       "1            Firms with female top manager (% of firms)     IC.FRM.FEMM.ZS   \n",
       "2            Firms with female top manager (% of firms)     IC.FRM.FEMM.ZS   \n",
       "3     Firms with female participation in ownership (...     IC.FRM.FEMO.ZS   \n",
       "4     Firms with female participation in ownership (...     IC.FRM.FEMO.ZS   \n",
       "...                                                 ...                ...   \n",
       "5398         Age population, age 05, male, interpolated  SP.POP.AG05.MA.IN   \n",
       "5399         Age population, age 05, male, interpolated  SP.POP.AG05.MA.IN   \n",
       "5400         Age population, age 05, male, interpolated  SP.POP.AG05.MA.IN   \n",
       "5401         Age population, age 05, male, interpolated  SP.POP.AG05.MA.IN   \n",
       "5402         Age population, age 05, male, interpolated  SP.POP.AG05.MA.IN   \n",
       "\n",
       "                     Value  \n",
       "0     #indicator+value+num  \n",
       "1                     18.1  \n",
       "2                     13.4  \n",
       "3                     47.5  \n",
       "4                     48.7  \n",
       "...                    ...  \n",
       "5398                157641  \n",
       "5399                153034  \n",
       "5400                148364  \n",
       "5401                143362  \n",
       "5402                137867  \n",
       "\n",
       "[5403 rows x 6 columns]>"
      ]
     },
     "execution_count": 5,
     "metadata": {},
     "output_type": "execute_result"
    }
   ],
   "source": [
    "gender_df.tail"
   ]
  },
  {
   "cell_type": "code",
   "execution_count": 6,
   "metadata": {},
   "outputs": [
    {
     "name": "stdout",
     "output_type": "stream",
     "text": [
      "<class 'pandas.core.frame.DataFrame'>\n",
      "RangeIndex: 5403 entries, 0 to 5402\n",
      "Data columns (total 6 columns):\n",
      " #   Column          Non-Null Count  Dtype \n",
      "---  ------          --------------  ----- \n",
      " 0   Country Name    5403 non-null   object\n",
      " 1   Country ISO3    5403 non-null   object\n",
      " 2   Year            5403 non-null   object\n",
      " 3   Indicator Name  5403 non-null   object\n",
      " 4   Indicator Code  5403 non-null   object\n",
      " 5   Value           5403 non-null   object\n",
      "dtypes: object(6)\n",
      "memory usage: 253.4+ KB\n"
     ]
    }
   ],
   "source": [
    "gender_df.info()"
   ]
  },
  {
   "cell_type": "code",
   "execution_count": 7,
   "metadata": {},
   "outputs": [
    {
     "data": {
      "text/html": [
       "<div>\n",
       "<style scoped>\n",
       "    .dataframe tbody tr th:only-of-type {\n",
       "        vertical-align: middle;\n",
       "    }\n",
       "\n",
       "    .dataframe tbody tr th {\n",
       "        vertical-align: top;\n",
       "    }\n",
       "\n",
       "    .dataframe thead th {\n",
       "        text-align: right;\n",
       "    }\n",
       "</style>\n",
       "<table border=\"1\" class=\"dataframe\">\n",
       "  <thead>\n",
       "    <tr style=\"text-align: right;\">\n",
       "      <th></th>\n",
       "      <th>Country Name</th>\n",
       "      <th>Country ISO3</th>\n",
       "      <th>Year</th>\n",
       "      <th>Indicator Name</th>\n",
       "      <th>Indicator Code</th>\n",
       "      <th>Value</th>\n",
       "    </tr>\n",
       "  </thead>\n",
       "  <tbody>\n",
       "    <tr>\n",
       "      <th>count</th>\n",
       "      <td>5403</td>\n",
       "      <td>5403</td>\n",
       "      <td>5403</td>\n",
       "      <td>5403</td>\n",
       "      <td>5403</td>\n",
       "      <td>5403</td>\n",
       "    </tr>\n",
       "    <tr>\n",
       "      <th>unique</th>\n",
       "      <td>2</td>\n",
       "      <td>2</td>\n",
       "      <td>62</td>\n",
       "      <td>277</td>\n",
       "      <td>277</td>\n",
       "      <td>3308</td>\n",
       "    </tr>\n",
       "    <tr>\n",
       "      <th>top</th>\n",
       "      <td>Kenya</td>\n",
       "      <td>KEN</td>\n",
       "      <td>2009</td>\n",
       "      <td>Life expectancy at birth, female (years)</td>\n",
       "      <td>SP.POP.AG02.FE.IN</td>\n",
       "      <td>1</td>\n",
       "    </tr>\n",
       "    <tr>\n",
       "      <th>freq</th>\n",
       "      <td>5402</td>\n",
       "      <td>5402</td>\n",
       "      <td>206</td>\n",
       "      <td>59</td>\n",
       "      <td>59</td>\n",
       "      <td>1009</td>\n",
       "    </tr>\n",
       "  </tbody>\n",
       "</table>\n",
       "</div>"
      ],
      "text/plain": [
       "       Country Name Country ISO3  Year  \\\n",
       "count          5403         5403  5403   \n",
       "unique            2            2    62   \n",
       "top           Kenya          KEN  2009   \n",
       "freq           5402         5402   206   \n",
       "\n",
       "                                  Indicator Name     Indicator Code Value  \n",
       "count                                       5403               5403  5403  \n",
       "unique                                       277                277  3308  \n",
       "top     Life expectancy at birth, female (years)  SP.POP.AG02.FE.IN     1  \n",
       "freq                                          59                 59  1009  "
      ]
     },
     "execution_count": 7,
     "metadata": {},
     "output_type": "execute_result"
    }
   ],
   "source": [
    "gender_df.describe()"
   ]
  },
  {
   "cell_type": "code",
   "execution_count": 8,
   "metadata": {},
   "outputs": [
    {
     "data": {
      "text/html": [
       "<div>\n",
       "<style scoped>\n",
       "    .dataframe tbody tr th:only-of-type {\n",
       "        vertical-align: middle;\n",
       "    }\n",
       "\n",
       "    .dataframe tbody tr th {\n",
       "        vertical-align: top;\n",
       "    }\n",
       "\n",
       "    .dataframe thead th {\n",
       "        text-align: right;\n",
       "    }\n",
       "</style>\n",
       "<table border=\"1\" class=\"dataframe\">\n",
       "  <thead>\n",
       "    <tr style=\"text-align: right;\">\n",
       "      <th></th>\n",
       "      <th>Country Name</th>\n",
       "      <th>Country ISO3</th>\n",
       "      <th>Year</th>\n",
       "      <th>Indicator Name</th>\n",
       "      <th>Indicator Code</th>\n",
       "      <th>Value</th>\n",
       "    </tr>\n",
       "  </thead>\n",
       "  <tbody>\n",
       "    <tr>\n",
       "      <th>0</th>\n",
       "      <td>False</td>\n",
       "      <td>False</td>\n",
       "      <td>False</td>\n",
       "      <td>False</td>\n",
       "      <td>False</td>\n",
       "      <td>False</td>\n",
       "    </tr>\n",
       "    <tr>\n",
       "      <th>1</th>\n",
       "      <td>False</td>\n",
       "      <td>False</td>\n",
       "      <td>False</td>\n",
       "      <td>False</td>\n",
       "      <td>False</td>\n",
       "      <td>False</td>\n",
       "    </tr>\n",
       "    <tr>\n",
       "      <th>2</th>\n",
       "      <td>False</td>\n",
       "      <td>False</td>\n",
       "      <td>False</td>\n",
       "      <td>False</td>\n",
       "      <td>False</td>\n",
       "      <td>False</td>\n",
       "    </tr>\n",
       "    <tr>\n",
       "      <th>3</th>\n",
       "      <td>False</td>\n",
       "      <td>False</td>\n",
       "      <td>False</td>\n",
       "      <td>False</td>\n",
       "      <td>False</td>\n",
       "      <td>False</td>\n",
       "    </tr>\n",
       "    <tr>\n",
       "      <th>4</th>\n",
       "      <td>False</td>\n",
       "      <td>False</td>\n",
       "      <td>False</td>\n",
       "      <td>False</td>\n",
       "      <td>False</td>\n",
       "      <td>False</td>\n",
       "    </tr>\n",
       "    <tr>\n",
       "      <th>...</th>\n",
       "      <td>...</td>\n",
       "      <td>...</td>\n",
       "      <td>...</td>\n",
       "      <td>...</td>\n",
       "      <td>...</td>\n",
       "      <td>...</td>\n",
       "    </tr>\n",
       "    <tr>\n",
       "      <th>5398</th>\n",
       "      <td>False</td>\n",
       "      <td>False</td>\n",
       "      <td>False</td>\n",
       "      <td>False</td>\n",
       "      <td>False</td>\n",
       "      <td>False</td>\n",
       "    </tr>\n",
       "    <tr>\n",
       "      <th>5399</th>\n",
       "      <td>False</td>\n",
       "      <td>False</td>\n",
       "      <td>False</td>\n",
       "      <td>False</td>\n",
       "      <td>False</td>\n",
       "      <td>False</td>\n",
       "    </tr>\n",
       "    <tr>\n",
       "      <th>5400</th>\n",
       "      <td>False</td>\n",
       "      <td>False</td>\n",
       "      <td>False</td>\n",
       "      <td>False</td>\n",
       "      <td>False</td>\n",
       "      <td>False</td>\n",
       "    </tr>\n",
       "    <tr>\n",
       "      <th>5401</th>\n",
       "      <td>False</td>\n",
       "      <td>False</td>\n",
       "      <td>False</td>\n",
       "      <td>False</td>\n",
       "      <td>False</td>\n",
       "      <td>False</td>\n",
       "    </tr>\n",
       "    <tr>\n",
       "      <th>5402</th>\n",
       "      <td>False</td>\n",
       "      <td>False</td>\n",
       "      <td>False</td>\n",
       "      <td>False</td>\n",
       "      <td>False</td>\n",
       "      <td>False</td>\n",
       "    </tr>\n",
       "  </tbody>\n",
       "</table>\n",
       "<p>5403 rows × 6 columns</p>\n",
       "</div>"
      ],
      "text/plain": [
       "      Country Name  Country ISO3   Year  Indicator Name  Indicator Code  Value\n",
       "0            False         False  False           False           False  False\n",
       "1            False         False  False           False           False  False\n",
       "2            False         False  False           False           False  False\n",
       "3            False         False  False           False           False  False\n",
       "4            False         False  False           False           False  False\n",
       "...            ...           ...    ...             ...             ...    ...\n",
       "5398         False         False  False           False           False  False\n",
       "5399         False         False  False           False           False  False\n",
       "5400         False         False  False           False           False  False\n",
       "5401         False         False  False           False           False  False\n",
       "5402         False         False  False           False           False  False\n",
       "\n",
       "[5403 rows x 6 columns]"
      ]
     },
     "execution_count": 8,
     "metadata": {},
     "output_type": "execute_result"
    }
   ],
   "source": [
    "gender_df.isnull()"
   ]
  },
  {
   "cell_type": "code",
   "execution_count": 9,
   "metadata": {},
   "outputs": [
    {
     "data": {
      "text/plain": [
       "Country Name      0\n",
       "Country ISO3      0\n",
       "Year              0\n",
       "Indicator Name    0\n",
       "Indicator Code    0\n",
       "Value             0\n",
       "dtype: int64"
      ]
     },
     "execution_count": 9,
     "metadata": {},
     "output_type": "execute_result"
    }
   ],
   "source": [
    "gender_df.isnull().sum()"
   ]
  },
  {
   "cell_type": "code",
   "execution_count": 10,
   "metadata": {},
   "outputs": [
    {
     "data": {
      "text/html": [
       "<div>\n",
       "<style scoped>\n",
       "    .dataframe tbody tr th:only-of-type {\n",
       "        vertical-align: middle;\n",
       "    }\n",
       "\n",
       "    .dataframe tbody tr th {\n",
       "        vertical-align: top;\n",
       "    }\n",
       "\n",
       "    .dataframe thead th {\n",
       "        text-align: right;\n",
       "    }\n",
       "</style>\n",
       "<table border=\"1\" class=\"dataframe\">\n",
       "  <thead>\n",
       "    <tr style=\"text-align: right;\">\n",
       "      <th></th>\n",
       "      <th>Country Name</th>\n",
       "      <th>Year</th>\n",
       "      <th>Indicator Name</th>\n",
       "      <th>Indicator Code</th>\n",
       "      <th>Value</th>\n",
       "    </tr>\n",
       "  </thead>\n",
       "  <tbody>\n",
       "    <tr>\n",
       "      <th>0</th>\n",
       "      <td>#country+name</td>\n",
       "      <td>#date+year</td>\n",
       "      <td>#indicator+name</td>\n",
       "      <td>#indicator+code</td>\n",
       "      <td>#indicator+value+num</td>\n",
       "    </tr>\n",
       "    <tr>\n",
       "      <th>1</th>\n",
       "      <td>Kenya</td>\n",
       "      <td>2018</td>\n",
       "      <td>Firms with female top manager (% of firms)</td>\n",
       "      <td>IC.FRM.FEMM.ZS</td>\n",
       "      <td>18.1</td>\n",
       "    </tr>\n",
       "    <tr>\n",
       "      <th>2</th>\n",
       "      <td>Kenya</td>\n",
       "      <td>2013</td>\n",
       "      <td>Firms with female top manager (% of firms)</td>\n",
       "      <td>IC.FRM.FEMM.ZS</td>\n",
       "      <td>13.4</td>\n",
       "    </tr>\n",
       "    <tr>\n",
       "      <th>3</th>\n",
       "      <td>Kenya</td>\n",
       "      <td>2018</td>\n",
       "      <td>Firms with female participation in ownership (...</td>\n",
       "      <td>IC.FRM.FEMO.ZS</td>\n",
       "      <td>47.5</td>\n",
       "    </tr>\n",
       "    <tr>\n",
       "      <th>4</th>\n",
       "      <td>Kenya</td>\n",
       "      <td>2013</td>\n",
       "      <td>Firms with female participation in ownership (...</td>\n",
       "      <td>IC.FRM.FEMO.ZS</td>\n",
       "      <td>48.7</td>\n",
       "    </tr>\n",
       "    <tr>\n",
       "      <th>...</th>\n",
       "      <td>...</td>\n",
       "      <td>...</td>\n",
       "      <td>...</td>\n",
       "      <td>...</td>\n",
       "      <td>...</td>\n",
       "    </tr>\n",
       "    <tr>\n",
       "      <th>5398</th>\n",
       "      <td>Kenya</td>\n",
       "      <td>1964</td>\n",
       "      <td>Age population, age 05, male, interpolated</td>\n",
       "      <td>SP.POP.AG05.MA.IN</td>\n",
       "      <td>157641</td>\n",
       "    </tr>\n",
       "    <tr>\n",
       "      <th>5399</th>\n",
       "      <td>Kenya</td>\n",
       "      <td>1963</td>\n",
       "      <td>Age population, age 05, male, interpolated</td>\n",
       "      <td>SP.POP.AG05.MA.IN</td>\n",
       "      <td>153034</td>\n",
       "    </tr>\n",
       "    <tr>\n",
       "      <th>5400</th>\n",
       "      <td>Kenya</td>\n",
       "      <td>1962</td>\n",
       "      <td>Age population, age 05, male, interpolated</td>\n",
       "      <td>SP.POP.AG05.MA.IN</td>\n",
       "      <td>148364</td>\n",
       "    </tr>\n",
       "    <tr>\n",
       "      <th>5401</th>\n",
       "      <td>Kenya</td>\n",
       "      <td>1961</td>\n",
       "      <td>Age population, age 05, male, interpolated</td>\n",
       "      <td>SP.POP.AG05.MA.IN</td>\n",
       "      <td>143362</td>\n",
       "    </tr>\n",
       "    <tr>\n",
       "      <th>5402</th>\n",
       "      <td>Kenya</td>\n",
       "      <td>1960</td>\n",
       "      <td>Age population, age 05, male, interpolated</td>\n",
       "      <td>SP.POP.AG05.MA.IN</td>\n",
       "      <td>137867</td>\n",
       "    </tr>\n",
       "  </tbody>\n",
       "</table>\n",
       "<p>5403 rows × 5 columns</p>\n",
       "</div>"
      ],
      "text/plain": [
       "       Country Name        Year  \\\n",
       "0     #country+name  #date+year   \n",
       "1             Kenya        2018   \n",
       "2             Kenya        2013   \n",
       "3             Kenya        2018   \n",
       "4             Kenya        2013   \n",
       "...             ...         ...   \n",
       "5398          Kenya        1964   \n",
       "5399          Kenya        1963   \n",
       "5400          Kenya        1962   \n",
       "5401          Kenya        1961   \n",
       "5402          Kenya        1960   \n",
       "\n",
       "                                         Indicator Name     Indicator Code  \\\n",
       "0                                       #indicator+name    #indicator+code   \n",
       "1            Firms with female top manager (% of firms)     IC.FRM.FEMM.ZS   \n",
       "2            Firms with female top manager (% of firms)     IC.FRM.FEMM.ZS   \n",
       "3     Firms with female participation in ownership (...     IC.FRM.FEMO.ZS   \n",
       "4     Firms with female participation in ownership (...     IC.FRM.FEMO.ZS   \n",
       "...                                                 ...                ...   \n",
       "5398         Age population, age 05, male, interpolated  SP.POP.AG05.MA.IN   \n",
       "5399         Age population, age 05, male, interpolated  SP.POP.AG05.MA.IN   \n",
       "5400         Age population, age 05, male, interpolated  SP.POP.AG05.MA.IN   \n",
       "5401         Age population, age 05, male, interpolated  SP.POP.AG05.MA.IN   \n",
       "5402         Age population, age 05, male, interpolated  SP.POP.AG05.MA.IN   \n",
       "\n",
       "                     Value  \n",
       "0     #indicator+value+num  \n",
       "1                     18.1  \n",
       "2                     13.4  \n",
       "3                     47.5  \n",
       "4                     48.7  \n",
       "...                    ...  \n",
       "5398                157641  \n",
       "5399                153034  \n",
       "5400                148364  \n",
       "5401                143362  \n",
       "5402                137867  \n",
       "\n",
       "[5403 rows x 5 columns]"
      ]
     },
     "execution_count": 10,
     "metadata": {},
     "output_type": "execute_result"
    }
   ],
   "source": [
    "gender_df.drop(columns =['Country ISO3'],inplace=True)\n",
    "gender_df"
   ]
  },
  {
   "cell_type": "code",
   "execution_count": 11,
   "metadata": {},
   "outputs": [],
   "source": [
    "gender_df.drop([0],axis=0,inplace=True)"
   ]
  },
  {
   "cell_type": "code",
   "execution_count": 12,
   "metadata": {},
   "outputs": [
    {
     "data": {
      "text/html": [
       "<div>\n",
       "<style scoped>\n",
       "    .dataframe tbody tr th:only-of-type {\n",
       "        vertical-align: middle;\n",
       "    }\n",
       "\n",
       "    .dataframe tbody tr th {\n",
       "        vertical-align: top;\n",
       "    }\n",
       "\n",
       "    .dataframe thead th {\n",
       "        text-align: right;\n",
       "    }\n",
       "</style>\n",
       "<table border=\"1\" class=\"dataframe\">\n",
       "  <thead>\n",
       "    <tr style=\"text-align: right;\">\n",
       "      <th></th>\n",
       "      <th>Country Name</th>\n",
       "      <th>Year</th>\n",
       "      <th>Indicator Name</th>\n",
       "      <th>Indicator Code</th>\n",
       "      <th>Value</th>\n",
       "    </tr>\n",
       "  </thead>\n",
       "  <tbody>\n",
       "    <tr>\n",
       "      <th>1</th>\n",
       "      <td>Kenya</td>\n",
       "      <td>2018</td>\n",
       "      <td>Firms with female top manager (% of firms)</td>\n",
       "      <td>IC.FRM.FEMM.ZS</td>\n",
       "      <td>18.1</td>\n",
       "    </tr>\n",
       "    <tr>\n",
       "      <th>2</th>\n",
       "      <td>Kenya</td>\n",
       "      <td>2013</td>\n",
       "      <td>Firms with female top manager (% of firms)</td>\n",
       "      <td>IC.FRM.FEMM.ZS</td>\n",
       "      <td>13.4</td>\n",
       "    </tr>\n",
       "    <tr>\n",
       "      <th>3</th>\n",
       "      <td>Kenya</td>\n",
       "      <td>2018</td>\n",
       "      <td>Firms with female participation in ownership (...</td>\n",
       "      <td>IC.FRM.FEMO.ZS</td>\n",
       "      <td>47.5</td>\n",
       "    </tr>\n",
       "    <tr>\n",
       "      <th>4</th>\n",
       "      <td>Kenya</td>\n",
       "      <td>2013</td>\n",
       "      <td>Firms with female participation in ownership (...</td>\n",
       "      <td>IC.FRM.FEMO.ZS</td>\n",
       "      <td>48.7</td>\n",
       "    </tr>\n",
       "    <tr>\n",
       "      <th>5</th>\n",
       "      <td>Kenya</td>\n",
       "      <td>2007</td>\n",
       "      <td>Firms with female participation in ownership (...</td>\n",
       "      <td>IC.FRM.FEMO.ZS</td>\n",
       "      <td>37.1</td>\n",
       "    </tr>\n",
       "    <tr>\n",
       "      <th>...</th>\n",
       "      <td>...</td>\n",
       "      <td>...</td>\n",
       "      <td>...</td>\n",
       "      <td>...</td>\n",
       "      <td>...</td>\n",
       "    </tr>\n",
       "    <tr>\n",
       "      <th>5398</th>\n",
       "      <td>Kenya</td>\n",
       "      <td>1964</td>\n",
       "      <td>Age population, age 05, male, interpolated</td>\n",
       "      <td>SP.POP.AG05.MA.IN</td>\n",
       "      <td>157641</td>\n",
       "    </tr>\n",
       "    <tr>\n",
       "      <th>5399</th>\n",
       "      <td>Kenya</td>\n",
       "      <td>1963</td>\n",
       "      <td>Age population, age 05, male, interpolated</td>\n",
       "      <td>SP.POP.AG05.MA.IN</td>\n",
       "      <td>153034</td>\n",
       "    </tr>\n",
       "    <tr>\n",
       "      <th>5400</th>\n",
       "      <td>Kenya</td>\n",
       "      <td>1962</td>\n",
       "      <td>Age population, age 05, male, interpolated</td>\n",
       "      <td>SP.POP.AG05.MA.IN</td>\n",
       "      <td>148364</td>\n",
       "    </tr>\n",
       "    <tr>\n",
       "      <th>5401</th>\n",
       "      <td>Kenya</td>\n",
       "      <td>1961</td>\n",
       "      <td>Age population, age 05, male, interpolated</td>\n",
       "      <td>SP.POP.AG05.MA.IN</td>\n",
       "      <td>143362</td>\n",
       "    </tr>\n",
       "    <tr>\n",
       "      <th>5402</th>\n",
       "      <td>Kenya</td>\n",
       "      <td>1960</td>\n",
       "      <td>Age population, age 05, male, interpolated</td>\n",
       "      <td>SP.POP.AG05.MA.IN</td>\n",
       "      <td>137867</td>\n",
       "    </tr>\n",
       "  </tbody>\n",
       "</table>\n",
       "<p>5402 rows × 5 columns</p>\n",
       "</div>"
      ],
      "text/plain": [
       "     Country Name  Year                                     Indicator Name  \\\n",
       "1           Kenya  2018         Firms with female top manager (% of firms)   \n",
       "2           Kenya  2013         Firms with female top manager (% of firms)   \n",
       "3           Kenya  2018  Firms with female participation in ownership (...   \n",
       "4           Kenya  2013  Firms with female participation in ownership (...   \n",
       "5           Kenya  2007  Firms with female participation in ownership (...   \n",
       "...           ...   ...                                                ...   \n",
       "5398        Kenya  1964         Age population, age 05, male, interpolated   \n",
       "5399        Kenya  1963         Age population, age 05, male, interpolated   \n",
       "5400        Kenya  1962         Age population, age 05, male, interpolated   \n",
       "5401        Kenya  1961         Age population, age 05, male, interpolated   \n",
       "5402        Kenya  1960         Age population, age 05, male, interpolated   \n",
       "\n",
       "         Indicator Code   Value  \n",
       "1        IC.FRM.FEMM.ZS    18.1  \n",
       "2        IC.FRM.FEMM.ZS    13.4  \n",
       "3        IC.FRM.FEMO.ZS    47.5  \n",
       "4        IC.FRM.FEMO.ZS    48.7  \n",
       "5        IC.FRM.FEMO.ZS    37.1  \n",
       "...                 ...     ...  \n",
       "5398  SP.POP.AG05.MA.IN  157641  \n",
       "5399  SP.POP.AG05.MA.IN  153034  \n",
       "5400  SP.POP.AG05.MA.IN  148364  \n",
       "5401  SP.POP.AG05.MA.IN  143362  \n",
       "5402  SP.POP.AG05.MA.IN  137867  \n",
       "\n",
       "[5402 rows x 5 columns]"
      ]
     },
     "execution_count": 12,
     "metadata": {},
     "output_type": "execute_result"
    }
   ],
   "source": [
    "gender_df"
   ]
  },
  {
   "cell_type": "code",
   "execution_count": null,
   "metadata": {},
   "outputs": [],
   "source": []
  },
  {
   "cell_type": "code",
   "execution_count": null,
   "metadata": {},
   "outputs": [],
   "source": []
  },
  {
   "cell_type": "code",
   "execution_count": null,
   "metadata": {},
   "outputs": [],
   "source": []
  },
  {
   "cell_type": "code",
   "execution_count": null,
   "metadata": {},
   "outputs": [],
   "source": []
  },
  {
   "cell_type": "code",
   "execution_count": null,
   "metadata": {},
   "outputs": [],
   "source": []
  },
  {
   "cell_type": "code",
   "execution_count": null,
   "metadata": {},
   "outputs": [],
   "source": []
  },
  {
   "cell_type": "code",
   "execution_count": null,
   "metadata": {},
   "outputs": [],
   "source": []
  },
  {
   "cell_type": "code",
   "execution_count": null,
   "metadata": {},
   "outputs": [],
   "source": []
  },
  {
   "cell_type": "code",
   "execution_count": null,
   "metadata": {
    "scrolled": true
   },
   "outputs": [],
   "source": []
  },
  {
   "cell_type": "code",
   "execution_count": null,
   "metadata": {},
   "outputs": [],
   "source": []
  },
  {
   "cell_type": "code",
   "execution_count": null,
   "metadata": {},
   "outputs": [],
   "source": []
  },
  {
   "cell_type": "code",
   "execution_count": 13,
   "metadata": {},
   "outputs": [
    {
     "data": {
      "text/plain": [
       "array(['Country Name', 'Year', 'Indicator Name', 'Indicator Code',\n",
       "       'Value'], dtype=object)"
      ]
     },
     "execution_count": 13,
     "metadata": {},
     "output_type": "execute_result"
    }
   ],
   "source": [
    "gender_df.columns.values"
   ]
  },
  {
   "cell_type": "code",
   "execution_count": 14,
   "metadata": {},
   "outputs": [
    {
     "data": {
      "text/html": [
       "<div>\n",
       "<style scoped>\n",
       "    .dataframe tbody tr th:only-of-type {\n",
       "        vertical-align: middle;\n",
       "    }\n",
       "\n",
       "    .dataframe tbody tr th {\n",
       "        vertical-align: top;\n",
       "    }\n",
       "\n",
       "    .dataframe thead th {\n",
       "        text-align: right;\n",
       "    }\n",
       "</style>\n",
       "<table border=\"1\" class=\"dataframe\">\n",
       "  <thead>\n",
       "    <tr style=\"text-align: right;\">\n",
       "      <th></th>\n",
       "      <th>Country Name</th>\n",
       "      <th>Year</th>\n",
       "      <th>Indicator Name</th>\n",
       "      <th>Value</th>\n",
       "    </tr>\n",
       "  </thead>\n",
       "  <tbody>\n",
       "    <tr>\n",
       "      <th>1</th>\n",
       "      <td>Kenya</td>\n",
       "      <td>2018</td>\n",
       "      <td>Firms with female top manager (% of firms)</td>\n",
       "      <td>18.1</td>\n",
       "    </tr>\n",
       "    <tr>\n",
       "      <th>2</th>\n",
       "      <td>Kenya</td>\n",
       "      <td>2013</td>\n",
       "      <td>Firms with female top manager (% of firms)</td>\n",
       "      <td>13.4</td>\n",
       "    </tr>\n",
       "    <tr>\n",
       "      <th>3</th>\n",
       "      <td>Kenya</td>\n",
       "      <td>2018</td>\n",
       "      <td>Firms with female participation in ownership (...</td>\n",
       "      <td>47.5</td>\n",
       "    </tr>\n",
       "    <tr>\n",
       "      <th>4</th>\n",
       "      <td>Kenya</td>\n",
       "      <td>2013</td>\n",
       "      <td>Firms with female participation in ownership (...</td>\n",
       "      <td>48.7</td>\n",
       "    </tr>\n",
       "    <tr>\n",
       "      <th>5</th>\n",
       "      <td>Kenya</td>\n",
       "      <td>2007</td>\n",
       "      <td>Firms with female participation in ownership (...</td>\n",
       "      <td>37.1</td>\n",
       "    </tr>\n",
       "    <tr>\n",
       "      <th>...</th>\n",
       "      <td>...</td>\n",
       "      <td>...</td>\n",
       "      <td>...</td>\n",
       "      <td>...</td>\n",
       "    </tr>\n",
       "    <tr>\n",
       "      <th>5398</th>\n",
       "      <td>Kenya</td>\n",
       "      <td>1964</td>\n",
       "      <td>Age population, age 05, male, interpolated</td>\n",
       "      <td>157641</td>\n",
       "    </tr>\n",
       "    <tr>\n",
       "      <th>5399</th>\n",
       "      <td>Kenya</td>\n",
       "      <td>1963</td>\n",
       "      <td>Age population, age 05, male, interpolated</td>\n",
       "      <td>153034</td>\n",
       "    </tr>\n",
       "    <tr>\n",
       "      <th>5400</th>\n",
       "      <td>Kenya</td>\n",
       "      <td>1962</td>\n",
       "      <td>Age population, age 05, male, interpolated</td>\n",
       "      <td>148364</td>\n",
       "    </tr>\n",
       "    <tr>\n",
       "      <th>5401</th>\n",
       "      <td>Kenya</td>\n",
       "      <td>1961</td>\n",
       "      <td>Age population, age 05, male, interpolated</td>\n",
       "      <td>143362</td>\n",
       "    </tr>\n",
       "    <tr>\n",
       "      <th>5402</th>\n",
       "      <td>Kenya</td>\n",
       "      <td>1960</td>\n",
       "      <td>Age population, age 05, male, interpolated</td>\n",
       "      <td>137867</td>\n",
       "    </tr>\n",
       "  </tbody>\n",
       "</table>\n",
       "<p>5402 rows × 4 columns</p>\n",
       "</div>"
      ],
      "text/plain": [
       "     Country Name  Year                                     Indicator Name  \\\n",
       "1           Kenya  2018         Firms with female top manager (% of firms)   \n",
       "2           Kenya  2013         Firms with female top manager (% of firms)   \n",
       "3           Kenya  2018  Firms with female participation in ownership (...   \n",
       "4           Kenya  2013  Firms with female participation in ownership (...   \n",
       "5           Kenya  2007  Firms with female participation in ownership (...   \n",
       "...           ...   ...                                                ...   \n",
       "5398        Kenya  1964         Age population, age 05, male, interpolated   \n",
       "5399        Kenya  1963         Age population, age 05, male, interpolated   \n",
       "5400        Kenya  1962         Age population, age 05, male, interpolated   \n",
       "5401        Kenya  1961         Age population, age 05, male, interpolated   \n",
       "5402        Kenya  1960         Age population, age 05, male, interpolated   \n",
       "\n",
       "       Value  \n",
       "1       18.1  \n",
       "2       13.4  \n",
       "3       47.5  \n",
       "4       48.7  \n",
       "5       37.1  \n",
       "...      ...  \n",
       "5398  157641  \n",
       "5399  153034  \n",
       "5400  148364  \n",
       "5401  143362  \n",
       "5402  137867  \n",
       "\n",
       "[5402 rows x 4 columns]"
      ]
     },
     "execution_count": 14,
     "metadata": {},
     "output_type": "execute_result"
    }
   ],
   "source": [
    "gender_df.drop(columns=['Indicator Code'],inplace=True)\n",
    "gender_df"
   ]
  },
  {
   "cell_type": "code",
   "execution_count": 15,
   "metadata": {},
   "outputs": [
    {
     "data": {
      "text/html": [
       "<div>\n",
       "<style scoped>\n",
       "    .dataframe tbody tr th:only-of-type {\n",
       "        vertical-align: middle;\n",
       "    }\n",
       "\n",
       "    .dataframe tbody tr th {\n",
       "        vertical-align: top;\n",
       "    }\n",
       "\n",
       "    .dataframe thead th {\n",
       "        text-align: right;\n",
       "    }\n",
       "</style>\n",
       "<table border=\"1\" class=\"dataframe\">\n",
       "  <thead>\n",
       "    <tr style=\"text-align: right;\">\n",
       "      <th></th>\n",
       "      <th>Country Name</th>\n",
       "      <th>Year</th>\n",
       "      <th>Indicator Name</th>\n",
       "      <th>Value</th>\n",
       "    </tr>\n",
       "  </thead>\n",
       "  <tbody>\n",
       "    <tr>\n",
       "      <th>count</th>\n",
       "      <td>5402</td>\n",
       "      <td>5402</td>\n",
       "      <td>5402</td>\n",
       "      <td>5402</td>\n",
       "    </tr>\n",
       "    <tr>\n",
       "      <th>unique</th>\n",
       "      <td>1</td>\n",
       "      <td>61</td>\n",
       "      <td>276</td>\n",
       "      <td>3307</td>\n",
       "    </tr>\n",
       "    <tr>\n",
       "      <th>top</th>\n",
       "      <td>Kenya</td>\n",
       "      <td>2009</td>\n",
       "      <td>Life expectancy at birth, female (years)</td>\n",
       "      <td>1</td>\n",
       "    </tr>\n",
       "    <tr>\n",
       "      <th>freq</th>\n",
       "      <td>5402</td>\n",
       "      <td>206</td>\n",
       "      <td>59</td>\n",
       "      <td>1009</td>\n",
       "    </tr>\n",
       "  </tbody>\n",
       "</table>\n",
       "</div>"
      ],
      "text/plain": [
       "       Country Name  Year                            Indicator Name Value\n",
       "count          5402  5402                                      5402  5402\n",
       "unique            1    61                                       276  3307\n",
       "top           Kenya  2009  Life expectancy at birth, female (years)     1\n",
       "freq           5402   206                                        59  1009"
      ]
     },
     "execution_count": 15,
     "metadata": {},
     "output_type": "execute_result"
    }
   ],
   "source": [
    "gender_df.describe()"
   ]
  },
  {
   "cell_type": "code",
   "execution_count": 16,
   "metadata": {},
   "outputs": [
    {
     "data": {
      "text/html": [
       "<div>\n",
       "<style scoped>\n",
       "    .dataframe tbody tr th:only-of-type {\n",
       "        vertical-align: middle;\n",
       "    }\n",
       "\n",
       "    .dataframe tbody tr th {\n",
       "        vertical-align: top;\n",
       "    }\n",
       "\n",
       "    .dataframe thead th {\n",
       "        text-align: right;\n",
       "    }\n",
       "</style>\n",
       "<table border=\"1\" class=\"dataframe\">\n",
       "  <thead>\n",
       "    <tr style=\"text-align: right;\">\n",
       "      <th></th>\n",
       "      <th>Country Name</th>\n",
       "      <th>Year</th>\n",
       "      <th>Indicator Name</th>\n",
       "      <th>Value</th>\n",
       "    </tr>\n",
       "  </thead>\n",
       "  <tbody>\n",
       "    <tr>\n",
       "      <th>1</th>\n",
       "      <td>Kenya</td>\n",
       "      <td>2018</td>\n",
       "      <td>Firms with female top manager (% of firms)</td>\n",
       "      <td>18.1</td>\n",
       "    </tr>\n",
       "    <tr>\n",
       "      <th>2</th>\n",
       "      <td>Kenya</td>\n",
       "      <td>2013</td>\n",
       "      <td>Firms with female top manager (% of firms)</td>\n",
       "      <td>13.4</td>\n",
       "    </tr>\n",
       "    <tr>\n",
       "      <th>3</th>\n",
       "      <td>Kenya</td>\n",
       "      <td>2018</td>\n",
       "      <td>Firms with female participation in ownership (...</td>\n",
       "      <td>47.5</td>\n",
       "    </tr>\n",
       "    <tr>\n",
       "      <th>4</th>\n",
       "      <td>Kenya</td>\n",
       "      <td>2013</td>\n",
       "      <td>Firms with female participation in ownership (...</td>\n",
       "      <td>48.7</td>\n",
       "    </tr>\n",
       "    <tr>\n",
       "      <th>5</th>\n",
       "      <td>Kenya</td>\n",
       "      <td>2007</td>\n",
       "      <td>Firms with female participation in ownership (...</td>\n",
       "      <td>37.1</td>\n",
       "    </tr>\n",
       "  </tbody>\n",
       "</table>\n",
       "</div>"
      ],
      "text/plain": [
       "  Country Name  Year                                     Indicator Name Value\n",
       "1        Kenya  2018         Firms with female top manager (% of firms)  18.1\n",
       "2        Kenya  2013         Firms with female top manager (% of firms)  13.4\n",
       "3        Kenya  2018  Firms with female participation in ownership (...  47.5\n",
       "4        Kenya  2013  Firms with female participation in ownership (...  48.7\n",
       "5        Kenya  2007  Firms with female participation in ownership (...  37.1"
      ]
     },
     "execution_count": 16,
     "metadata": {},
     "output_type": "execute_result"
    }
   ],
   "source": [
    "gender_df.head()"
   ]
  },
  {
   "cell_type": "code",
   "execution_count": 17,
   "metadata": {},
   "outputs": [
    {
     "name": "stdout",
     "output_type": "stream",
     "text": [
      "<class 'pandas.core.frame.DataFrame'>\n",
      "Int64Index: 5402 entries, 1 to 5402\n",
      "Data columns (total 4 columns):\n",
      " #   Column          Non-Null Count  Dtype \n",
      "---  ------          --------------  ----- \n",
      " 0   Country Name    5402 non-null   object\n",
      " 1   Year            5402 non-null   object\n",
      " 2   Indicator Name  5402 non-null   object\n",
      " 3   Value           5402 non-null   object\n",
      "dtypes: object(4)\n",
      "memory usage: 211.0+ KB\n"
     ]
    }
   ],
   "source": [
    "gender_df.info()"
   ]
  },
  {
   "cell_type": "code",
   "execution_count": null,
   "metadata": {},
   "outputs": [],
   "source": []
  },
  {
   "cell_type": "code",
   "execution_count": 18,
   "metadata": {},
   "outputs": [
    {
     "data": {
      "text/html": [
       "<div>\n",
       "<style scoped>\n",
       "    .dataframe tbody tr th:only-of-type {\n",
       "        vertical-align: middle;\n",
       "    }\n",
       "\n",
       "    .dataframe tbody tr th {\n",
       "        vertical-align: top;\n",
       "    }\n",
       "\n",
       "    .dataframe thead th {\n",
       "        text-align: right;\n",
       "    }\n",
       "</style>\n",
       "<table border=\"1\" class=\"dataframe\">\n",
       "  <thead>\n",
       "    <tr style=\"text-align: right;\">\n",
       "      <th></th>\n",
       "      <th>Year</th>\n",
       "      <th>Indicator Name</th>\n",
       "      <th>Value</th>\n",
       "    </tr>\n",
       "  </thead>\n",
       "  <tbody>\n",
       "    <tr>\n",
       "      <th>1</th>\n",
       "      <td>2018</td>\n",
       "      <td>Firms with female top manager (% of firms)</td>\n",
       "      <td>18.1</td>\n",
       "    </tr>\n",
       "    <tr>\n",
       "      <th>2</th>\n",
       "      <td>2013</td>\n",
       "      <td>Firms with female top manager (% of firms)</td>\n",
       "      <td>13.4</td>\n",
       "    </tr>\n",
       "  </tbody>\n",
       "</table>\n",
       "</div>"
      ],
      "text/plain": [
       "   Year                              Indicator Name Value\n",
       "1  2018  Firms with female top manager (% of firms)  18.1\n",
       "2  2013  Firms with female top manager (% of firms)  13.4"
      ]
     },
     "execution_count": 18,
     "metadata": {},
     "output_type": "execute_result"
    }
   ],
   "source": [
    "female_manager = gender_df.loc[1:2,['Year','Indicator Name','Value']]\n",
    "female_manager                                   "
   ]
  },
  {
   "cell_type": "code",
   "execution_count": 19,
   "metadata": {},
   "outputs": [
    {
     "data": {
      "text/html": [
       "<div>\n",
       "<style scoped>\n",
       "    .dataframe tbody tr th:only-of-type {\n",
       "        vertical-align: middle;\n",
       "    }\n",
       "\n",
       "    .dataframe tbody tr th {\n",
       "        vertical-align: top;\n",
       "    }\n",
       "\n",
       "    .dataframe thead th {\n",
       "        text-align: right;\n",
       "    }\n",
       "</style>\n",
       "<table border=\"1\" class=\"dataframe\">\n",
       "  <thead>\n",
       "    <tr style=\"text-align: right;\">\n",
       "      <th></th>\n",
       "      <th>Country Name</th>\n",
       "      <th>Year</th>\n",
       "      <th>Indicator Name</th>\n",
       "      <th>Value</th>\n",
       "    </tr>\n",
       "  </thead>\n",
       "  <tbody>\n",
       "    <tr>\n",
       "      <th>1</th>\n",
       "      <td>Kenya</td>\n",
       "      <td>2018</td>\n",
       "      <td>Firms with female top manager (% of firms)</td>\n",
       "      <td>18.1</td>\n",
       "    </tr>\n",
       "    <tr>\n",
       "      <th>2</th>\n",
       "      <td>Kenya</td>\n",
       "      <td>2013</td>\n",
       "      <td>Firms with female top manager (% of firms)</td>\n",
       "      <td>13.4</td>\n",
       "    </tr>\n",
       "  </tbody>\n",
       "</table>\n",
       "</div>"
      ],
      "text/plain": [
       "  Country Name  Year                              Indicator Name Value\n",
       "1        Kenya  2018  Firms with female top manager (% of firms)  18.1\n",
       "2        Kenya  2013  Firms with female top manager (% of firms)  13.4"
      ]
     },
     "execution_count": 19,
     "metadata": {},
     "output_type": "execute_result"
    }
   ],
   "source": [
    "female_manager=gender_df.iloc[[0,1]]\n",
    "female_manager.head()"
   ]
  },
  {
   "cell_type": "code",
   "execution_count": null,
   "metadata": {},
   "outputs": [],
   "source": []
  },
  {
   "cell_type": "code",
   "execution_count": null,
   "metadata": {},
   "outputs": [],
   "source": []
  },
  {
   "cell_type": "code",
   "execution_count": null,
   "metadata": {},
   "outputs": [],
   "source": []
  },
  {
   "cell_type": "code",
   "execution_count": null,
   "metadata": {},
   "outputs": [],
   "source": []
  },
  {
   "cell_type": "code",
   "execution_count": null,
   "metadata": {},
   "outputs": [],
   "source": []
  },
  {
   "cell_type": "code",
   "execution_count": null,
   "metadata": {},
   "outputs": [],
   "source": []
  },
  {
   "cell_type": "code",
   "execution_count": null,
   "metadata": {},
   "outputs": [],
   "source": []
  },
  {
   "cell_type": "code",
   "execution_count": 20,
   "metadata": {},
   "outputs": [],
   "source": [
    "import seaborn as sns"
   ]
  },
  {
   "cell_type": "code",
   "execution_count": null,
   "metadata": {},
   "outputs": [],
   "source": []
  },
  {
   "cell_type": "code",
   "execution_count": 21,
   "metadata": {},
   "outputs": [
    {
     "data": {
      "text/plain": [
       "Text(0.5, 1.0, 'Rate Of female top manager')"
      ]
     },
     "execution_count": 21,
     "metadata": {},
     "output_type": "execute_result"
    },
    {
     "data": {
      "image/png": "[encoded data removed]",
      "text/plain": [
       "<Figure size 432x288 with 1 Axes>"
      ]
     },
     "metadata": {
      "needs_background": "light"
     },
     "output_type": "display_data"
    }
   ],
   "source": [
    "sns.barplot(x=female_manager['Year'],y=female_manager['Value'])\n",
    "plt.rc('figure',figsize=(20,5),)\n",
    "plt.title('Rate Of female top manager')"
   ]
  },
  {
   "cell_type": "code",
   "execution_count": null,
   "metadata": {},
   "outputs": [],
   "source": []
  },
  {
   "cell_type": "code",
   "execution_count": null,
   "metadata": {},
   "outputs": [],
   "source": []
  },
  {
   "cell_type": "code",
   "execution_count": null,
   "metadata": {},
   "outputs": [],
   "source": []
  },
  {
   "cell_type": "code",
   "execution_count": null,
   "metadata": {},
   "outputs": [],
   "source": []
  },
  {
   "cell_type": "code",
   "execution_count": null,
   "metadata": {},
   "outputs": [],
   "source": []
  },
  {
   "cell_type": "code",
   "execution_count": 22,
   "metadata": {},
   "outputs": [
    {
     "data": {
      "text/html": [
       "<div>\n",
       "<style scoped>\n",
       "    .dataframe tbody tr th:only-of-type {\n",
       "        vertical-align: middle;\n",
       "    }\n",
       "\n",
       "    .dataframe tbody tr th {\n",
       "        vertical-align: top;\n",
       "    }\n",
       "\n",
       "    .dataframe thead th {\n",
       "        text-align: right;\n",
       "    }\n",
       "</style>\n",
       "<table border=\"1\" class=\"dataframe\">\n",
       "  <thead>\n",
       "    <tr style=\"text-align: right;\">\n",
       "      <th></th>\n",
       "      <th>Country Name</th>\n",
       "      <th>Year</th>\n",
       "      <th>Indicator Name</th>\n",
       "      <th>Value</th>\n",
       "    </tr>\n",
       "  </thead>\n",
       "  <tbody>\n",
       "    <tr>\n",
       "      <th>4</th>\n",
       "      <td>Kenya</td>\n",
       "      <td>2013</td>\n",
       "      <td>Firms with female participation in ownership (...</td>\n",
       "      <td>48.7</td>\n",
       "    </tr>\n",
       "    <tr>\n",
       "      <th>5</th>\n",
       "      <td>Kenya</td>\n",
       "      <td>2007</td>\n",
       "      <td>Firms with female participation in ownership (...</td>\n",
       "      <td>37.1</td>\n",
       "    </tr>\n",
       "  </tbody>\n",
       "</table>\n",
       "</div>"
      ],
      "text/plain": [
       "  Country Name  Year                                     Indicator Name Value\n",
       "4        Kenya  2013  Firms with female participation in ownership (...  48.7\n",
       "5        Kenya  2007  Firms with female participation in ownership (...  37.1"
      ]
     },
     "execution_count": 22,
     "metadata": {},
     "output_type": "execute_result"
    }
   ],
   "source": [
    "female_ownership=gender_df.iloc[[3,4]]\n",
    "female_ownership.head()"
   ]
  },
  {
   "cell_type": "code",
   "execution_count": 23,
   "metadata": {},
   "outputs": [
    {
     "data": {
      "text/plain": [
       "Text(0.5, 1.0, 'Rate Of female top ownership')"
      ]
     },
     "execution_count": 23,
     "metadata": {},
     "output_type": "execute_result"
    },
    {
     "data": {
      "image/png": "[encoded data removed]",
      "text/plain": [
       "<Figure size 1440x360 with 1 Axes>"
      ]
     },
     "metadata": {
      "needs_background": "light"
     },
     "output_type": "display_data"
    }
   ],
   "source": [
    "sns.barplot(x=female_ownership['Year'],y=female_ownership['Value'])\n",
    "plt.rc('figure',figsize=(5,5),)\n",
    "plt.title('Rate Of female top ownership',color='r')"
   ]
  },
  {
   "cell_type": "code",
   "execution_count": null,
   "metadata": {},
   "outputs": [],
   "source": []
  },
  {
   "cell_type": "code",
   "execution_count": null,
   "metadata": {},
   "outputs": [],
   "source": []
  },
  {
   "cell_type": "code",
   "execution_count": null,
   "metadata": {},
   "outputs": [],
   "source": []
  },
  {
   "cell_type": "code",
   "execution_count": null,
   "metadata": {},
   "outputs": [],
   "source": []
  },
  {
   "cell_type": "code",
   "execution_count": null,
   "metadata": {},
   "outputs": [],
   "source": []
  },
  {
   "cell_type": "code",
   "execution_count": 24,
   "metadata": {},
   "outputs": [
    {
     "name": "stdout",
     "output_type": "stream",
     "text": [
      "<class 'pandas.core.frame.DataFrame'>\n",
      "Int64Index: 2 entries, 4 to 5\n",
      "Data columns (total 4 columns):\n",
      " #   Column          Non-Null Count  Dtype \n",
      "---  ------          --------------  ----- \n",
      " 0   Country Name    2 non-null      object\n",
      " 1   Year            2 non-null      object\n",
      " 2   Indicator Name  2 non-null      object\n",
      " 3   Value           2 non-null      object\n",
      "dtypes: object(4)\n",
      "memory usage: 160.0+ bytes\n"
     ]
    }
   ],
   "source": [
    "female_ownership.info()"
   ]
  },
  {
   "cell_type": "code",
   "execution_count": null,
   "metadata": {},
   "outputs": [],
   "source": []
  },
  {
   "cell_type": "code",
   "execution_count": null,
   "metadata": {},
   "outputs": [],
   "source": []
  },
  {
   "cell_type": "code",
   "execution_count": null,
   "metadata": {},
   "outputs": [],
   "source": []
  },
  {
   "cell_type": "code",
   "execution_count": null,
   "metadata": {},
   "outputs": [],
   "source": []
  },
  {
   "cell_type": "code",
   "execution_count": null,
   "metadata": {},
   "outputs": [],
   "source": []
  },
  {
   "cell_type": "code",
   "execution_count": null,
   "metadata": {},
   "outputs": [],
   "source": []
  },
  {
   "cell_type": "code",
   "execution_count": 25,
   "metadata": {},
   "outputs": [
    {
     "data": {
      "text/html": [
       "<div>\n",
       "<style scoped>\n",
       "    .dataframe tbody tr th:only-of-type {\n",
       "        vertical-align: middle;\n",
       "    }\n",
       "\n",
       "    .dataframe tbody tr th {\n",
       "        vertical-align: top;\n",
       "    }\n",
       "\n",
       "    .dataframe thead th {\n",
       "        text-align: right;\n",
       "    }\n",
       "</style>\n",
       "<table border=\"1\" class=\"dataframe\">\n",
       "  <thead>\n",
       "    <tr style=\"text-align: right;\">\n",
       "      <th></th>\n",
       "      <th>Country Name</th>\n",
       "      <th>Year</th>\n",
       "      <th>Indicator Name</th>\n",
       "      <th>Value</th>\n",
       "    </tr>\n",
       "  </thead>\n",
       "  <tbody>\n",
       "    <tr>\n",
       "      <th>94</th>\n",
       "      <td>Kenya</td>\n",
       "      <td>2009</td>\n",
       "      <td>School enrollment, secondary (gross), gender p...</td>\n",
       "      <td>0.89648</td>\n",
       "    </tr>\n",
       "    <tr>\n",
       "      <th>95</th>\n",
       "      <td>Kenya</td>\n",
       "      <td>2008</td>\n",
       "      <td>School enrollment, secondary (gross), gender p...</td>\n",
       "      <td>0.90776</td>\n",
       "    </tr>\n",
       "    <tr>\n",
       "      <th>96</th>\n",
       "      <td>Kenya</td>\n",
       "      <td>2007</td>\n",
       "      <td>School enrollment, secondary (gross), gender p...</td>\n",
       "      <td>0.86606</td>\n",
       "    </tr>\n",
       "    <tr>\n",
       "      <th>97</th>\n",
       "      <td>Kenya</td>\n",
       "      <td>2006</td>\n",
       "      <td>School enrollment, secondary (gross), gender p...</td>\n",
       "      <td>0.92447</td>\n",
       "    </tr>\n",
       "    <tr>\n",
       "      <th>98</th>\n",
       "      <td>Kenya</td>\n",
       "      <td>2005</td>\n",
       "      <td>School enrollment, secondary (gross), gender p...</td>\n",
       "      <td>0.94454</td>\n",
       "    </tr>\n",
       "    <tr>\n",
       "      <th>99</th>\n",
       "      <td>Kenya</td>\n",
       "      <td>2004</td>\n",
       "      <td>School enrollment, secondary (gross), gender p...</td>\n",
       "      <td>0.9243</td>\n",
       "    </tr>\n",
       "    <tr>\n",
       "      <th>100</th>\n",
       "      <td>Kenya</td>\n",
       "      <td>2003</td>\n",
       "      <td>School enrollment, secondary (gross), gender p...</td>\n",
       "      <td>1.01466</td>\n",
       "    </tr>\n",
       "    <tr>\n",
       "      <th>101</th>\n",
       "      <td>Kenya</td>\n",
       "      <td>2002</td>\n",
       "      <td>School enrollment, secondary (gross), gender p...</td>\n",
       "      <td>0.94747</td>\n",
       "    </tr>\n",
       "    <tr>\n",
       "      <th>102</th>\n",
       "      <td>Kenya</td>\n",
       "      <td>2001</td>\n",
       "      <td>School enrollment, secondary (gross), gender p...</td>\n",
       "      <td>0.93153</td>\n",
       "    </tr>\n",
       "    <tr>\n",
       "      <th>103</th>\n",
       "      <td>Kenya</td>\n",
       "      <td>2000</td>\n",
       "      <td>School enrollment, secondary (gross), gender p...</td>\n",
       "      <td>0.94465</td>\n",
       "    </tr>\n",
       "    <tr>\n",
       "      <th>104</th>\n",
       "      <td>Kenya</td>\n",
       "      <td>1999</td>\n",
       "      <td>School enrollment, secondary (gross), gender p...</td>\n",
       "      <td>0.95047</td>\n",
       "    </tr>\n",
       "    <tr>\n",
       "      <th>105</th>\n",
       "      <td>Kenya</td>\n",
       "      <td>1988</td>\n",
       "      <td>School enrollment, secondary (gross), gender p...</td>\n",
       "      <td>0.80072</td>\n",
       "    </tr>\n",
       "    <tr>\n",
       "      <th>106</th>\n",
       "      <td>Kenya</td>\n",
       "      <td>1987</td>\n",
       "      <td>School enrollment, secondary (gross), gender p...</td>\n",
       "      <td>0.79289</td>\n",
       "    </tr>\n",
       "    <tr>\n",
       "      <th>107</th>\n",
       "      <td>Kenya</td>\n",
       "      <td>1986</td>\n",
       "      <td>School enrollment, secondary (gross), gender p...</td>\n",
       "      <td>0.78565</td>\n",
       "    </tr>\n",
       "    <tr>\n",
       "      <th>108</th>\n",
       "      <td>Kenya</td>\n",
       "      <td>1985</td>\n",
       "      <td>School enrollment, secondary (gross), gender p...</td>\n",
       "      <td>0.75108</td>\n",
       "    </tr>\n",
       "    <tr>\n",
       "      <th>109</th>\n",
       "      <td>Kenya</td>\n",
       "      <td>1984</td>\n",
       "      <td>School enrollment, secondary (gross), gender p...</td>\n",
       "      <td>0.75094</td>\n",
       "    </tr>\n",
       "    <tr>\n",
       "      <th>110</th>\n",
       "      <td>Kenya</td>\n",
       "      <td>1983</td>\n",
       "      <td>School enrollment, secondary (gross), gender p...</td>\n",
       "      <td>0.7189</td>\n",
       "    </tr>\n",
       "    <tr>\n",
       "      <th>111</th>\n",
       "      <td>Kenya</td>\n",
       "      <td>1982</td>\n",
       "      <td>School enrollment, secondary (gross), gender p...</td>\n",
       "      <td>0.71322</td>\n",
       "    </tr>\n",
       "    <tr>\n",
       "      <th>112</th>\n",
       "      <td>Kenya</td>\n",
       "      <td>1981</td>\n",
       "      <td>School enrollment, secondary (gross), gender p...</td>\n",
       "      <td>0.71981</td>\n",
       "    </tr>\n",
       "    <tr>\n",
       "      <th>113</th>\n",
       "      <td>Kenya</td>\n",
       "      <td>1980</td>\n",
       "      <td>School enrollment, secondary (gross), gender p...</td>\n",
       "      <td>0.70357</td>\n",
       "    </tr>\n",
       "    <tr>\n",
       "      <th>114</th>\n",
       "      <td>Kenya</td>\n",
       "      <td>1975</td>\n",
       "      <td>School enrollment, secondary (gross), gender p...</td>\n",
       "      <td>0.58712</td>\n",
       "    </tr>\n",
       "    <tr>\n",
       "      <th>115</th>\n",
       "      <td>Kenya</td>\n",
       "      <td>1974</td>\n",
       "      <td>School enrollment, secondary (gross), gender p...</td>\n",
       "      <td>0.5527</td>\n",
       "    </tr>\n",
       "    <tr>\n",
       "      <th>116</th>\n",
       "      <td>Kenya</td>\n",
       "      <td>1973</td>\n",
       "      <td>School enrollment, secondary (gross), gender p...</td>\n",
       "      <td>0.53032</td>\n",
       "    </tr>\n",
       "    <tr>\n",
       "      <th>117</th>\n",
       "      <td>Kenya</td>\n",
       "      <td>1972</td>\n",
       "      <td>School enrollment, secondary (gross), gender p...</td>\n",
       "      <td>0.50725</td>\n",
       "    </tr>\n",
       "    <tr>\n",
       "      <th>118</th>\n",
       "      <td>Kenya</td>\n",
       "      <td>1971</td>\n",
       "      <td>School enrollment, secondary (gross), gender p...</td>\n",
       "      <td>0.47416</td>\n",
       "    </tr>\n",
       "    <tr>\n",
       "      <th>119</th>\n",
       "      <td>Kenya</td>\n",
       "      <td>1970</td>\n",
       "      <td>School enrollment, secondary (gross), gender p...</td>\n",
       "      <td>0.45404</td>\n",
       "    </tr>\n",
       "  </tbody>\n",
       "</table>\n",
       "</div>"
      ],
      "text/plain": [
       "    Country Name  Year                                     Indicator Name  \\\n",
       "94         Kenya  2009  School enrollment, secondary (gross), gender p...   \n",
       "95         Kenya  2008  School enrollment, secondary (gross), gender p...   \n",
       "96         Kenya  2007  School enrollment, secondary (gross), gender p...   \n",
       "97         Kenya  2006  School enrollment, secondary (gross), gender p...   \n",
       "98         Kenya  2005  School enrollment, secondary (gross), gender p...   \n",
       "99         Kenya  2004  School enrollment, secondary (gross), gender p...   \n",
       "100        Kenya  2003  School enrollment, secondary (gross), gender p...   \n",
       "101        Kenya  2002  School enrollment, secondary (gross), gender p...   \n",
       "102        Kenya  2001  School enrollment, secondary (gross), gender p...   \n",
       "103        Kenya  2000  School enrollment, secondary (gross), gender p...   \n",
       "104        Kenya  1999  School enrollment, secondary (gross), gender p...   \n",
       "105        Kenya  1988  School enrollment, secondary (gross), gender p...   \n",
       "106        Kenya  1987  School enrollment, secondary (gross), gender p...   \n",
       "107        Kenya  1986  School enrollment, secondary (gross), gender p...   \n",
       "108        Kenya  1985  School enrollment, secondary (gross), gender p...   \n",
       "109        Kenya  1984  School enrollment, secondary (gross), gender p...   \n",
       "110        Kenya  1983  School enrollment, secondary (gross), gender p...   \n",
       "111        Kenya  1982  School enrollment, secondary (gross), gender p...   \n",
       "112        Kenya  1981  School enrollment, secondary (gross), gender p...   \n",
       "113        Kenya  1980  School enrollment, secondary (gross), gender p...   \n",
       "114        Kenya  1975  School enrollment, secondary (gross), gender p...   \n",
       "115        Kenya  1974  School enrollment, secondary (gross), gender p...   \n",
       "116        Kenya  1973  School enrollment, secondary (gross), gender p...   \n",
       "117        Kenya  1972  School enrollment, secondary (gross), gender p...   \n",
       "118        Kenya  1971  School enrollment, secondary (gross), gender p...   \n",
       "119        Kenya  1970  School enrollment, secondary (gross), gender p...   \n",
       "\n",
       "       Value  \n",
       "94   0.89648  \n",
       "95   0.90776  \n",
       "96   0.86606  \n",
       "97   0.92447  \n",
       "98   0.94454  \n",
       "99    0.9243  \n",
       "100  1.01466  \n",
       "101  0.94747  \n",
       "102  0.93153  \n",
       "103  0.94465  \n",
       "104  0.95047  \n",
       "105  0.80072  \n",
       "106  0.79289  \n",
       "107  0.78565  \n",
       "108  0.75108  \n",
       "109  0.75094  \n",
       "110   0.7189  \n",
       "111  0.71322  \n",
       "112  0.71981  \n",
       "113  0.70357  \n",
       "114  0.58712  \n",
       "115   0.5527  \n",
       "116  0.53032  \n",
       "117  0.50725  \n",
       "118  0.47416  \n",
       "119  0.45404  "
      ]
     },
     "execution_count": 25,
     "metadata": {},
     "output_type": "execute_result"
    }
   ],
   "source": [
    "# gross secondary enrolment from the year 1970 to 2009\n",
    "secondary_enrolment = gender_df.iloc[93:119]\n",
    "secondary_enrolment"
   ]
  },
  {
   "cell_type": "code",
   "execution_count": 26,
   "metadata": {},
   "outputs": [
    {
     "data": {
      "text/plain": [
       "Text(0.5, 1, 'Rate of school enrollment')"
      ]
     },
     "execution_count": 26,
     "metadata": {},
     "output_type": "execute_result"
    },
    {
     "data": {
      "image/png": "[encoded data removed]",
      "text/plain": [
       "<Figure size 360x360 with 1 Axes>"
      ]
     },
     "metadata": {},
     "output_type": "display_data"
    }
   ],
   "source": [
    "\n",
    "sns.set(style=\"ticks\")\n",
    "\n",
    "x = sns.catplot(x=\"Year\", y=\"Value\", data=secondary_enrolment.tail())\n",
    "plt.title('Rate of school enrollment')\n",
    "\n",
    "\n"
   ]
  },
  {
   "cell_type": "code",
   "execution_count": null,
   "metadata": {},
   "outputs": [],
   "source": []
  },
  {
   "cell_type": "code",
   "execution_count": null,
   "metadata": {},
   "outputs": [],
   "source": []
  },
  {
   "cell_type": "code",
   "execution_count": null,
   "metadata": {},
   "outputs": [],
   "source": []
  },
  {
   "cell_type": "code",
   "execution_count": null,
   "metadata": {},
   "outputs": [],
   "source": []
  },
  {
   "cell_type": "code",
   "execution_count": 27,
   "metadata": {},
   "outputs": [
    {
     "data": {
      "text/html": [
       "<div>\n",
       "<style scoped>\n",
       "    .dataframe tbody tr th:only-of-type {\n",
       "        vertical-align: middle;\n",
       "    }\n",
       "\n",
       "    .dataframe tbody tr th {\n",
       "        vertical-align: top;\n",
       "    }\n",
       "\n",
       "    .dataframe thead th {\n",
       "        text-align: right;\n",
       "    }\n",
       "</style>\n",
       "<table border=\"1\" class=\"dataframe\">\n",
       "  <thead>\n",
       "    <tr style=\"text-align: right;\">\n",
       "      <th></th>\n",
       "      <th>Country Name</th>\n",
       "      <th>Year</th>\n",
       "      <th>Indicator Name</th>\n",
       "      <th>Value</th>\n",
       "    </tr>\n",
       "  </thead>\n",
       "  <tbody>\n",
       "    <tr>\n",
       "      <th>26</th>\n",
       "      <td>Kenya</td>\n",
       "      <td>2016</td>\n",
       "      <td>School enrollment, primary (gross), gender par...</td>\n",
       "      <td>1.0037</td>\n",
       "    </tr>\n",
       "    <tr>\n",
       "      <th>27</th>\n",
       "      <td>Kenya</td>\n",
       "      <td>2015</td>\n",
       "      <td>School enrollment, primary (gross), gender par...</td>\n",
       "      <td>0.99947</td>\n",
       "    </tr>\n",
       "    <tr>\n",
       "      <th>28</th>\n",
       "      <td>Kenya</td>\n",
       "      <td>2014</td>\n",
       "      <td>School enrollment, primary (gross), gender par...</td>\n",
       "      <td>1.00738</td>\n",
       "    </tr>\n",
       "    <tr>\n",
       "      <th>29</th>\n",
       "      <td>Kenya</td>\n",
       "      <td>2012</td>\n",
       "      <td>School enrollment, primary (gross), gender par...</td>\n",
       "      <td>1.00825</td>\n",
       "    </tr>\n",
       "    <tr>\n",
       "      <th>30</th>\n",
       "      <td>Kenya</td>\n",
       "      <td>2009</td>\n",
       "      <td>School enrollment, primary (gross), gender par...</td>\n",
       "      <td>0.97793</td>\n",
       "    </tr>\n",
       "    <tr>\n",
       "      <th>31</th>\n",
       "      <td>Kenya</td>\n",
       "      <td>2008</td>\n",
       "      <td>School enrollment, primary (gross), gender par...</td>\n",
       "      <td>0.97824</td>\n",
       "    </tr>\n",
       "    <tr>\n",
       "      <th>32</th>\n",
       "      <td>Kenya</td>\n",
       "      <td>2007</td>\n",
       "      <td>School enrollment, primary (gross), gender par...</td>\n",
       "      <td>0.9835</td>\n",
       "    </tr>\n",
       "    <tr>\n",
       "      <th>33</th>\n",
       "      <td>Kenya</td>\n",
       "      <td>2006</td>\n",
       "      <td>School enrollment, primary (gross), gender par...</td>\n",
       "      <td>0.96952</td>\n",
       "    </tr>\n",
       "    <tr>\n",
       "      <th>34</th>\n",
       "      <td>Kenya</td>\n",
       "      <td>2005</td>\n",
       "      <td>School enrollment, primary (gross), gender par...</td>\n",
       "      <td>0.95671</td>\n",
       "    </tr>\n",
       "    <tr>\n",
       "      <th>35</th>\n",
       "      <td>Kenya</td>\n",
       "      <td>2004</td>\n",
       "      <td>School enrollment, primary (gross), gender par...</td>\n",
       "      <td>0.93969</td>\n",
       "    </tr>\n",
       "    <tr>\n",
       "      <th>36</th>\n",
       "      <td>Kenya</td>\n",
       "      <td>2003</td>\n",
       "      <td>School enrollment, primary (gross), gender par...</td>\n",
       "      <td>0.94821</td>\n",
       "    </tr>\n",
       "    <tr>\n",
       "      <th>37</th>\n",
       "      <td>Kenya</td>\n",
       "      <td>2002</td>\n",
       "      <td>School enrollment, primary (gross), gender par...</td>\n",
       "      <td>0.94503</td>\n",
       "    </tr>\n",
       "    <tr>\n",
       "      <th>38</th>\n",
       "      <td>Kenya</td>\n",
       "      <td>2001</td>\n",
       "      <td>School enrollment, primary (gross), gender par...</td>\n",
       "      <td>0.97583</td>\n",
       "    </tr>\n",
       "    <tr>\n",
       "      <th>39</th>\n",
       "      <td>Kenya</td>\n",
       "      <td>2000</td>\n",
       "      <td>School enrollment, primary (gross), gender par...</td>\n",
       "      <td>0.98157</td>\n",
       "    </tr>\n",
       "    <tr>\n",
       "      <th>40</th>\n",
       "      <td>Kenya</td>\n",
       "      <td>1999</td>\n",
       "      <td>School enrollment, primary (gross), gender par...</td>\n",
       "      <td>0.96769</td>\n",
       "    </tr>\n",
       "    <tr>\n",
       "      <th>41</th>\n",
       "      <td>Kenya</td>\n",
       "      <td>1998</td>\n",
       "      <td>School enrollment, primary (gross), gender par...</td>\n",
       "      <td>0.97726</td>\n",
       "    </tr>\n",
       "    <tr>\n",
       "      <th>42</th>\n",
       "      <td>Kenya</td>\n",
       "      <td>1995</td>\n",
       "      <td>School enrollment, primary (gross), gender par...</td>\n",
       "      <td>0.98163</td>\n",
       "    </tr>\n",
       "    <tr>\n",
       "      <th>43</th>\n",
       "      <td>Kenya</td>\n",
       "      <td>1994</td>\n",
       "      <td>School enrollment, primary (gross), gender par...</td>\n",
       "      <td>0.98433</td>\n",
       "    </tr>\n",
       "    <tr>\n",
       "      <th>44</th>\n",
       "      <td>Kenya</td>\n",
       "      <td>1993</td>\n",
       "      <td>School enrollment, primary (gross), gender par...</td>\n",
       "      <td>0.97784</td>\n",
       "    </tr>\n",
       "    <tr>\n",
       "      <th>45</th>\n",
       "      <td>Kenya</td>\n",
       "      <td>1992</td>\n",
       "      <td>School enrollment, primary (gross), gender par...</td>\n",
       "      <td>0.97046</td>\n",
       "    </tr>\n",
       "    <tr>\n",
       "      <th>46</th>\n",
       "      <td>Kenya</td>\n",
       "      <td>1991</td>\n",
       "      <td>School enrollment, primary (gross), gender par...</td>\n",
       "      <td>0.97071</td>\n",
       "    </tr>\n",
       "    <tr>\n",
       "      <th>47</th>\n",
       "      <td>Kenya</td>\n",
       "      <td>1990</td>\n",
       "      <td>School enrollment, primary (gross), gender par...</td>\n",
       "      <td>0.96588</td>\n",
       "    </tr>\n",
       "    <tr>\n",
       "      <th>48</th>\n",
       "      <td>Kenya</td>\n",
       "      <td>1989</td>\n",
       "      <td>School enrollment, primary (gross), gender par...</td>\n",
       "      <td>0.96275</td>\n",
       "    </tr>\n",
       "    <tr>\n",
       "      <th>49</th>\n",
       "      <td>Kenya</td>\n",
       "      <td>1988</td>\n",
       "      <td>School enrollment, primary (gross), gender par...</td>\n",
       "      <td>0.96558</td>\n",
       "    </tr>\n",
       "    <tr>\n",
       "      <th>50</th>\n",
       "      <td>Kenya</td>\n",
       "      <td>1987</td>\n",
       "      <td>School enrollment, primary (gross), gender par...</td>\n",
       "      <td>0.95542</td>\n",
       "    </tr>\n",
       "    <tr>\n",
       "      <th>51</th>\n",
       "      <td>Kenya</td>\n",
       "      <td>1986</td>\n",
       "      <td>School enrollment, primary (gross), gender par...</td>\n",
       "      <td>0.95272</td>\n",
       "    </tr>\n",
       "    <tr>\n",
       "      <th>52</th>\n",
       "      <td>Kenya</td>\n",
       "      <td>1985</td>\n",
       "      <td>School enrollment, primary (gross), gender par...</td>\n",
       "      <td>0.95666</td>\n",
       "    </tr>\n",
       "    <tr>\n",
       "      <th>53</th>\n",
       "      <td>Kenya</td>\n",
       "      <td>1984</td>\n",
       "      <td>School enrollment, primary (gross), gender par...</td>\n",
       "      <td>0.95022</td>\n",
       "    </tr>\n",
       "    <tr>\n",
       "      <th>54</th>\n",
       "      <td>Kenya</td>\n",
       "      <td>1983</td>\n",
       "      <td>School enrollment, primary (gross), gender par...</td>\n",
       "      <td>0.94122</td>\n",
       "    </tr>\n",
       "    <tr>\n",
       "      <th>55</th>\n",
       "      <td>Kenya</td>\n",
       "      <td>1982</td>\n",
       "      <td>School enrollment, primary (gross), gender par...</td>\n",
       "      <td>0.94112</td>\n",
       "    </tr>\n",
       "    <tr>\n",
       "      <th>56</th>\n",
       "      <td>Kenya</td>\n",
       "      <td>1981</td>\n",
       "      <td>School enrollment, primary (gross), gender par...</td>\n",
       "      <td>0.93378</td>\n",
       "    </tr>\n",
       "    <tr>\n",
       "      <th>57</th>\n",
       "      <td>Kenya</td>\n",
       "      <td>1980</td>\n",
       "      <td>School enrollment, primary (gross), gender par...</td>\n",
       "      <td>0.92199</td>\n",
       "    </tr>\n",
       "    <tr>\n",
       "      <th>58</th>\n",
       "      <td>Kenya</td>\n",
       "      <td>1979</td>\n",
       "      <td>School enrollment, primary (gross), gender par...</td>\n",
       "      <td>0.9079</td>\n",
       "    </tr>\n",
       "    <tr>\n",
       "      <th>59</th>\n",
       "      <td>Kenya</td>\n",
       "      <td>1978</td>\n",
       "      <td>School enrollment, primary (gross), gender par...</td>\n",
       "      <td>0.8943</td>\n",
       "    </tr>\n",
       "    <tr>\n",
       "      <th>60</th>\n",
       "      <td>Kenya</td>\n",
       "      <td>1977</td>\n",
       "      <td>School enrollment, primary (gross), gender par...</td>\n",
       "      <td>0.88774</td>\n",
       "    </tr>\n",
       "    <tr>\n",
       "      <th>61</th>\n",
       "      <td>Kenya</td>\n",
       "      <td>1976</td>\n",
       "      <td>School enrollment, primary (gross), gender par...</td>\n",
       "      <td>0.87842</td>\n",
       "    </tr>\n",
       "    <tr>\n",
       "      <th>62</th>\n",
       "      <td>Kenya</td>\n",
       "      <td>1975</td>\n",
       "      <td>School enrollment, primary (gross), gender par...</td>\n",
       "      <td>0.86059</td>\n",
       "    </tr>\n",
       "    <tr>\n",
       "      <th>63</th>\n",
       "      <td>Kenya</td>\n",
       "      <td>1974</td>\n",
       "      <td>School enrollment, primary (gross), gender par...</td>\n",
       "      <td>0.83068</td>\n",
       "    </tr>\n",
       "    <tr>\n",
       "      <th>64</th>\n",
       "      <td>Kenya</td>\n",
       "      <td>1973</td>\n",
       "      <td>School enrollment, primary (gross), gender par...</td>\n",
       "      <td>0.7919</td>\n",
       "    </tr>\n",
       "    <tr>\n",
       "      <th>65</th>\n",
       "      <td>Kenya</td>\n",
       "      <td>1972</td>\n",
       "      <td>School enrollment, primary (gross), gender par...</td>\n",
       "      <td>0.77115</td>\n",
       "    </tr>\n",
       "    <tr>\n",
       "      <th>66</th>\n",
       "      <td>Kenya</td>\n",
       "      <td>1971</td>\n",
       "      <td>School enrollment, primary (gross), gender par...</td>\n",
       "      <td>0.75754</td>\n",
       "    </tr>\n",
       "    <tr>\n",
       "      <th>67</th>\n",
       "      <td>Kenya</td>\n",
       "      <td>1970</td>\n",
       "      <td>School enrollment, primary (gross), gender par...</td>\n",
       "      <td>0.73417</td>\n",
       "    </tr>\n",
       "  </tbody>\n",
       "</table>\n",
       "</div>"
      ],
      "text/plain": [
       "   Country Name  Year                                     Indicator Name  \\\n",
       "26        Kenya  2016  School enrollment, primary (gross), gender par...   \n",
       "27        Kenya  2015  School enrollment, primary (gross), gender par...   \n",
       "28        Kenya  2014  School enrollment, primary (gross), gender par...   \n",
       "29        Kenya  2012  School enrollment, primary (gross), gender par...   \n",
       "30        Kenya  2009  School enrollment, primary (gross), gender par...   \n",
       "31        Kenya  2008  School enrollment, primary (gross), gender par...   \n",
       "32        Kenya  2007  School enrollment, primary (gross), gender par...   \n",
       "33        Kenya  2006  School enrollment, primary (gross), gender par...   \n",
       "34        Kenya  2005  School enrollment, primary (gross), gender par...   \n",
       "35        Kenya  2004  School enrollment, primary (gross), gender par...   \n",
       "36        Kenya  2003  School enrollment, primary (gross), gender par...   \n",
       "37        Kenya  2002  School enrollment, primary (gross), gender par...   \n",
       "38        Kenya  2001  School enrollment, primary (gross), gender par...   \n",
       "39        Kenya  2000  School enrollment, primary (gross), gender par...   \n",
       "40        Kenya  1999  School enrollment, primary (gross), gender par...   \n",
       "41        Kenya  1998  School enrollment, primary (gross), gender par...   \n",
       "42        Kenya  1995  School enrollment, primary (gross), gender par...   \n",
       "43        Kenya  1994  School enrollment, primary (gross), gender par...   \n",
       "44        Kenya  1993  School enrollment, primary (gross), gender par...   \n",
       "45        Kenya  1992  School enrollment, primary (gross), gender par...   \n",
       "46        Kenya  1991  School enrollment, primary (gross), gender par...   \n",
       "47        Kenya  1990  School enrollment, primary (gross), gender par...   \n",
       "48        Kenya  1989  School enrollment, primary (gross), gender par...   \n",
       "49        Kenya  1988  School enrollment, primary (gross), gender par...   \n",
       "50        Kenya  1987  School enrollment, primary (gross), gender par...   \n",
       "51        Kenya  1986  School enrollment, primary (gross), gender par...   \n",
       "52        Kenya  1985  School enrollment, primary (gross), gender par...   \n",
       "53        Kenya  1984  School enrollment, primary (gross), gender par...   \n",
       "54        Kenya  1983  School enrollment, primary (gross), gender par...   \n",
       "55        Kenya  1982  School enrollment, primary (gross), gender par...   \n",
       "56        Kenya  1981  School enrollment, primary (gross), gender par...   \n",
       "57        Kenya  1980  School enrollment, primary (gross), gender par...   \n",
       "58        Kenya  1979  School enrollment, primary (gross), gender par...   \n",
       "59        Kenya  1978  School enrollment, primary (gross), gender par...   \n",
       "60        Kenya  1977  School enrollment, primary (gross), gender par...   \n",
       "61        Kenya  1976  School enrollment, primary (gross), gender par...   \n",
       "62        Kenya  1975  School enrollment, primary (gross), gender par...   \n",
       "63        Kenya  1974  School enrollment, primary (gross), gender par...   \n",
       "64        Kenya  1973  School enrollment, primary (gross), gender par...   \n",
       "65        Kenya  1972  School enrollment, primary (gross), gender par...   \n",
       "66        Kenya  1971  School enrollment, primary (gross), gender par...   \n",
       "67        Kenya  1970  School enrollment, primary (gross), gender par...   \n",
       "\n",
       "      Value  \n",
       "26   1.0037  \n",
       "27  0.99947  \n",
       "28  1.00738  \n",
       "29  1.00825  \n",
       "30  0.97793  \n",
       "31  0.97824  \n",
       "32   0.9835  \n",
       "33  0.96952  \n",
       "34  0.95671  \n",
       "35  0.93969  \n",
       "36  0.94821  \n",
       "37  0.94503  \n",
       "38  0.97583  \n",
       "39  0.98157  \n",
       "40  0.96769  \n",
       "41  0.97726  \n",
       "42  0.98163  \n",
       "43  0.98433  \n",
       "44  0.97784  \n",
       "45  0.97046  \n",
       "46  0.97071  \n",
       "47  0.96588  \n",
       "48  0.96275  \n",
       "49  0.96558  \n",
       "50  0.95542  \n",
       "51  0.95272  \n",
       "52  0.95666  \n",
       "53  0.95022  \n",
       "54  0.94122  \n",
       "55  0.94112  \n",
       "56  0.93378  \n",
       "57  0.92199  \n",
       "58   0.9079  \n",
       "59   0.8943  \n",
       "60  0.88774  \n",
       "61  0.87842  \n",
       "62  0.86059  \n",
       "63  0.83068  \n",
       "64   0.7919  \n",
       "65  0.77115  \n",
       "66  0.75754  \n",
       "67  0.73417  "
      ]
     },
     "execution_count": 27,
     "metadata": {},
     "output_type": "execute_result"
    }
   ],
   "source": [
    "# gross primary school enrolment in the years 1970 - 2016\n",
    "school_enrolment_p = gender_df.iloc[25:67]\n",
    "school_enrolment_p"
   ]
  },
  {
   "cell_type": "code",
   "execution_count": 28,
   "metadata": {},
   "outputs": [
    {
     "data": {
      "text/plain": [
       "Text(0.5, 1.0, 'School enrollment primary')"
      ]
     },
     "execution_count": 28,
     "metadata": {},
     "output_type": "execute_result"
    },
    {
     "data": {
      "image/png": "[encoded data removed]",
      "text/plain": [
       "<Figure size 360x360 with 1 Axes>"
      ]
     },
     "metadata": {},
     "output_type": "display_data"
    }
   ],
   "source": [
    "sns.barplot(x=school_enrolment_p['Year'],y=school_enrolment_p['Value'])\n",
    "plt.rc('figure',figsize=(20,20),)\n",
    "plt.title('School enrollment primary',color='r')"
   ]
  },
  {
   "cell_type": "code",
   "execution_count": 29,
   "metadata": {},
   "outputs": [
    {
     "data": {
      "text/html": [
       "<div>\n",
       "<style scoped>\n",
       "    .dataframe tbody tr th:only-of-type {\n",
       "        vertical-align: middle;\n",
       "    }\n",
       "\n",
       "    .dataframe tbody tr th {\n",
       "        vertical-align: top;\n",
       "    }\n",
       "\n",
       "    .dataframe thead th {\n",
       "        text-align: right;\n",
       "    }\n",
       "</style>\n",
       "<table border=\"1\" class=\"dataframe\">\n",
       "  <thead>\n",
       "    <tr style=\"text-align: right;\">\n",
       "      <th></th>\n",
       "      <th>Country Name</th>\n",
       "      <th>Year</th>\n",
       "      <th>Indicator Name</th>\n",
       "      <th>Value</th>\n",
       "    </tr>\n",
       "  </thead>\n",
       "  <tbody>\n",
       "    <tr>\n",
       "      <th>187</th>\n",
       "      <td>Kenya</td>\n",
       "      <td>2005</td>\n",
       "      <td>Primary completion rate, female (% of relevant...</td>\n",
       "      <td>85.60271</td>\n",
       "    </tr>\n",
       "    <tr>\n",
       "      <th>188</th>\n",
       "      <td>Kenya</td>\n",
       "      <td>2004</td>\n",
       "      <td>Primary completion rate, female (% of relevant...</td>\n",
       "      <td>84.55586</td>\n",
       "    </tr>\n",
       "    <tr>\n",
       "      <th>189</th>\n",
       "      <td>Kenya</td>\n",
       "      <td>1981</td>\n",
       "      <td>Primary completion rate, female (% of relevant...</td>\n",
       "      <td>79.72269</td>\n",
       "    </tr>\n",
       "    <tr>\n",
       "      <th>190</th>\n",
       "      <td>Kenya</td>\n",
       "      <td>1980</td>\n",
       "      <td>Primary completion rate, female (% of relevant...</td>\n",
       "      <td>80.18481</td>\n",
       "    </tr>\n",
       "    <tr>\n",
       "      <th>191</th>\n",
       "      <td>Kenya</td>\n",
       "      <td>1978</td>\n",
       "      <td>Primary completion rate, female (% of relevant...</td>\n",
       "      <td>61.34654</td>\n",
       "    </tr>\n",
       "    <tr>\n",
       "      <th>192</th>\n",
       "      <td>Kenya</td>\n",
       "      <td>1977</td>\n",
       "      <td>Primary completion rate, female (% of relevant...</td>\n",
       "      <td>59.15694</td>\n",
       "    </tr>\n",
       "    <tr>\n",
       "      <th>193</th>\n",
       "      <td>Kenya</td>\n",
       "      <td>1973</td>\n",
       "      <td>Primary completion rate, female (% of relevant...</td>\n",
       "      <td>45.80534</td>\n",
       "    </tr>\n",
       "    <tr>\n",
       "      <th>194</th>\n",
       "      <td>Kenya</td>\n",
       "      <td>1972</td>\n",
       "      <td>Primary completion rate, female (% of relevant...</td>\n",
       "      <td>43.11386</td>\n",
       "    </tr>\n",
       "    <tr>\n",
       "      <th>195</th>\n",
       "      <td>Kenya</td>\n",
       "      <td>1971</td>\n",
       "      <td>Primary completion rate, female (% of relevant...</td>\n",
       "      <td>39.79885</td>\n",
       "    </tr>\n",
       "    <tr>\n",
       "      <th>196</th>\n",
       "      <td>Kenya</td>\n",
       "      <td>1970</td>\n",
       "      <td>Primary completion rate, female (% of relevant...</td>\n",
       "      <td>37.0527</td>\n",
       "    </tr>\n",
       "    <tr>\n",
       "      <th>197</th>\n",
       "      <td>Kenya</td>\n",
       "      <td>2016</td>\n",
       "      <td>Primary completion rate, male (% of relevant a...</td>\n",
       "      <td>99.27903</td>\n",
       "    </tr>\n",
       "    <tr>\n",
       "      <th>198</th>\n",
       "      <td>Kenya</td>\n",
       "      <td>2015</td>\n",
       "      <td>Primary completion rate, male (% of relevant a...</td>\n",
       "      <td>98.64928</td>\n",
       "    </tr>\n",
       "  </tbody>\n",
       "</table>\n",
       "</div>"
      ],
      "text/plain": [
       "    Country Name  Year                                     Indicator Name  \\\n",
       "187        Kenya  2005  Primary completion rate, female (% of relevant...   \n",
       "188        Kenya  2004  Primary completion rate, female (% of relevant...   \n",
       "189        Kenya  1981  Primary completion rate, female (% of relevant...   \n",
       "190        Kenya  1980  Primary completion rate, female (% of relevant...   \n",
       "191        Kenya  1978  Primary completion rate, female (% of relevant...   \n",
       "192        Kenya  1977  Primary completion rate, female (% of relevant...   \n",
       "193        Kenya  1973  Primary completion rate, female (% of relevant...   \n",
       "194        Kenya  1972  Primary completion rate, female (% of relevant...   \n",
       "195        Kenya  1971  Primary completion rate, female (% of relevant...   \n",
       "196        Kenya  1970  Primary completion rate, female (% of relevant...   \n",
       "197        Kenya  2016  Primary completion rate, male (% of relevant a...   \n",
       "198        Kenya  2015  Primary completion rate, male (% of relevant a...   \n",
       "\n",
       "        Value  \n",
       "187  85.60271  \n",
       "188  84.55586  \n",
       "189  79.72269  \n",
       "190  80.18481  \n",
       "191  61.34654  \n",
       "192  59.15694  \n",
       "193  45.80534  \n",
       "194  43.11386  \n",
       "195  39.79885  \n",
       "196   37.0527  \n",
       "197  99.27903  \n",
       "198  98.64928  "
      ]
     },
     "execution_count": 29,
     "metadata": {},
     "output_type": "execute_result"
    }
   ],
   "source": [
    "primary_completion_f= gender_df.iloc[186:198]\n",
    "primary_completion_f"
   ]
  },
  {
   "cell_type": "code",
   "execution_count": 41,
   "metadata": {},
   "outputs": [
    {
     "data": {
      "image/png": "[encoded data removed]",
      "text/plain": [
       "<Figure size 360x360 with 1 Axes>"
      ]
     },
     "metadata": {},
     "output_type": "display_data"
    }
   ],
   "source": [
    "g=sns.relplot(x=\"Year\", y=\"Value\",\n",
    "            \n",
    "            data=primary_completion_f.head(10))\n",
    "g.fig.axes[0].invert_xaxis()\n",
    "g.fig.axes[0].invert_yaxis()\n"
   ]
  },
  {
   "cell_type": "code",
   "execution_count": null,
   "metadata": {},
   "outputs": [],
   "source": []
  },
  {
   "cell_type": "code",
   "execution_count": null,
   "metadata": {},
   "outputs": [],
   "source": []
  },
  {
   "cell_type": "code",
   "execution_count": null,
   "metadata": {},
   "outputs": [],
   "source": []
  },
  {
   "cell_type": "code",
   "execution_count": null,
   "metadata": {},
   "outputs": [],
   "source": []
  },
  {
   "cell_type": "code",
   "execution_count": null,
   "metadata": {},
   "outputs": [],
   "source": []
  },
  {
   "cell_type": "code",
   "execution_count": null,
   "metadata": {},
   "outputs": [],
   "source": []
  },
  {
   "cell_type": "code",
   "execution_count": null,
   "metadata": {},
   "outputs": [],
   "source": []
  },
  {
   "cell_type": "code",
   "execution_count": null,
   "metadata": {},
   "outputs": [],
   "source": []
  },
  {
   "cell_type": "code",
   "execution_count": null,
   "metadata": {},
   "outputs": [],
   "source": []
  },
  {
   "cell_type": "code",
   "execution_count": null,
   "metadata": {},
   "outputs": [],
   "source": []
  },
  {
   "cell_type": "code",
   "execution_count": null,
   "metadata": {},
   "outputs": [],
   "source": []
  },
  {
   "cell_type": "code",
   "execution_count": null,
   "metadata": {},
   "outputs": [],
   "source": []
  },
  {
   "cell_type": "code",
   "execution_count": null,
   "metadata": {},
   "outputs": [],
   "source": []
  },
  {
   "cell_type": "code",
   "execution_count": null,
   "metadata": {},
   "outputs": [],
   "source": []
  },
  {
   "cell_type": "code",
   "execution_count": null,
   "metadata": {},
   "outputs": [],
   "source": []
  },
  {
   "cell_type": "code",
   "execution_count": null,
   "metadata": {},
   "outputs": [],
   "source": []
  },
  {
   "cell_type": "code",
   "execution_count": null,
   "metadata": {},
   "outputs": [],
   "source": []
  },
  {
   "cell_type": "code",
   "execution_count": null,
   "metadata": {},
   "outputs": [],
   "source": []
  },
  {
   "cell_type": "code",
   "execution_count": null,
   "metadata": {},
   "outputs": [],
   "source": []
  },
  {
   "cell_type": "code",
   "execution_count": null,
   "metadata": {},
   "outputs": [],
   "source": []
  },
  {
   "cell_type": "code",
   "execution_count": null,
   "metadata": {},
   "outputs": [],
   "source": []
  },
  {
   "cell_type": "code",
   "execution_count": null,
   "metadata": {},
   "outputs": [],
   "source": []
  },
  {
   "cell_type": "code",
   "execution_count": null,
   "metadata": {},
   "outputs": [],
   "source": []
  },
  {
   "cell_type": "code",
   "execution_count": null,
   "metadata": {},
   "outputs": [],
   "source": []
  },
  {
   "cell_type": "code",
   "execution_count": null,
   "metadata": {},
   "outputs": [],
   "source": []
  },
  {
   "cell_type": "code",
   "execution_count": null,
   "metadata": {},
   "outputs": [],
   "source": []
  },
  {
   "cell_type": "code",
   "execution_count": null,
   "metadata": {},
   "outputs": [],
   "source": []
  },
  {
   "cell_type": "code",
   "execution_count": null,
   "metadata": {},
   "outputs": [],
   "source": []
  },
  {
   "cell_type": "code",
   "execution_count": null,
   "metadata": {},
   "outputs": [],
   "source": []
  },
  {
   "cell_type": "code",
   "execution_count": null,
   "metadata": {},
   "outputs": [],
   "source": []
  },
  {
   "cell_type": "code",
   "execution_count": null,
   "metadata": {},
   "outputs": [],
   "source": []
  },
  {
   "cell_type": "code",
   "execution_count": null,
   "metadata": {},
   "outputs": [],
   "source": []
  },
  {
   "cell_type": "code",
   "execution_count": null,
   "metadata": {},
   "outputs": [],
   "source": []
  },
  {
   "cell_type": "code",
   "execution_count": null,
   "metadata": {},
   "outputs": [],
   "source": []
  },
  {
   "cell_type": "code",
   "execution_count": null,
   "metadata": {},
   "outputs": [],
   "source": []
  },
  {
   "cell_type": "code",
   "execution_count": null,
   "metadata": {},
   "outputs": [],
   "source": []
  },
  {
   "cell_type": "code",
   "execution_count": null,
   "metadata": {},
   "outputs": [],
   "source": []
  },
  {
   "cell_type": "code",
   "execution_count": null,
   "metadata": {},
   "outputs": [],
   "source": []
  },
  {
   "cell_type": "code",
   "execution_count": null,
   "metadata": {},
   "outputs": [],
   "source": []
  },
  {
   "cell_type": "code",
   "execution_count": null,
   "metadata": {},
   "outputs": [],
   "source": []
  },
  {
   "cell_type": "code",
   "execution_count": null,
   "metadata": {},
   "outputs": [],
   "source": []
  },
  {
   "cell_type": "code",
   "execution_count": null,
   "metadata": {},
   "outputs": [],
   "source": []
  },
  {
   "cell_type": "code",
   "execution_count": null,
   "metadata": {},
   "outputs": [],
   "source": []
  },
  {
   "cell_type": "code",
   "execution_count": null,
   "metadata": {},
   "outputs": [],
   "source": []
  },
  {
   "cell_type": "code",
   "execution_count": null,
   "metadata": {},
   "outputs": [],
   "source": []
  },
  {
   "cell_type": "code",
   "execution_count": null,
   "metadata": {},
   "outputs": [],
   "source": []
  },
  {
   "cell_type": "code",
   "execution_count": null,
   "metadata": {},
   "outputs": [],
   "source": []
  },
  {
   "cell_type": "code",
   "execution_count": null,
   "metadata": {},
   "outputs": [],
   "source": []
  },
  {
   "cell_type": "code",
   "execution_count": null,
   "metadata": {},
   "outputs": [],
   "source": []
  },
  {
   "cell_type": "code",
   "execution_count": null,
   "metadata": {},
   "outputs": [],
   "source": []
  },
  {
   "cell_type": "code",
   "execution_count": null,
   "metadata": {},
   "outputs": [],
   "source": []
  },
  {
   "cell_type": "code",
   "execution_count": null,
   "metadata": {},
   "outputs": [],
   "source": [
    "`"
   ]
  },
  {
   "cell_type": "code",
   "execution_count": null,
   "metadata": {},
   "outputs": [],
   "source": []
  },
  {
   "cell_type": "code",
   "execution_count": null,
   "metadata": {},
   "outputs": [],
   "source": []
  },
  {
   "cell_type": "code",
   "execution_count": null,
   "metadata": {},
   "outputs": [],
   "source": []
  },
  {
   "cell_type": "code",
   "execution_count": null,
   "metadata": {},
   "outputs": [],
   "source": []
  },
  {
   "cell_type": "code",
   "execution_count": null,
   "metadata": {},
   "outputs": [],
   "source": []
  },
  {
   "cell_type": "code",
   "execution_count": null,
   "metadata": {},
   "outputs": [],
   "source": []
  },
  {
   "cell_type": "code",
   "execution_count": null,
   "metadata": {},
   "outputs": [],
   "source": []
  },
  {
   "cell_type": "code",
   "execution_count": null,
   "metadata": {},
   "outputs": [],
   "source": []
  },
  {
   "cell_type": "code",
   "execution_count": null,
   "metadata": {},
   "outputs": [],
   "source": []
  },
  {
   "cell_type": "code",
   "execution_count": null,
   "metadata": {},
   "outputs": [],
   "source": []
  },
  {
   "cell_type": "code",
   "execution_count": null,
   "metadata": {},
   "outputs": [],
   "source": []
  },
  {
   "cell_type": "code",
   "execution_count": null,
   "metadata": {},
   "outputs": [],
   "source": []
  },
  {
   "cell_type": "code",
   "execution_count": null,
   "metadata": {},
   "outputs": [],
   "source": []
  },
  {
   "cell_type": "code",
   "execution_count": null,
   "metadata": {},
   "outputs": [],
   "source": []
  },
  {
   "cell_type": "code",
   "execution_count": null,
   "metadata": {},
   "outputs": [],
   "source": []
  },
  {
   "cell_type": "code",
   "execution_count": null,
   "metadata": {},
   "outputs": [],
   "source": []
  },
  {
   "cell_type": "code",
   "execution_count": null,
   "metadata": {},
   "outputs": [],
   "source": []
  },
  {
   "cell_type": "code",
   "execution_count": null,
   "metadata": {},
   "outputs": [],
   "source": []
  },
  {
   "cell_type": "code",
   "execution_count": null,
   "metadata": {},
   "outputs": [],
   "source": []
  },
  {
   "cell_type": "code",
   "execution_count": null,
   "metadata": {},
   "outputs": [],
   "source": []
  },
  {
   "cell_type": "code",
   "execution_count": null,
   "metadata": {},
   "outputs": [],
   "source": []
  },
  {
   "cell_type": "code",
   "execution_count": null,
   "metadata": {},
   "outputs": [],
   "source": []
  },
  {
   "cell_type": "code",
   "execution_count": null,
   "metadata": {},
   "outputs": [],
   "source": []
  },
  {
   "cell_type": "code",
   "execution_count": null,
   "metadata": {},
   "outputs": [],
   "source": []
  },
  {
   "cell_type": "code",
   "execution_count": null,
   "metadata": {},
   "outputs": [],
   "source": []
  },
  {
   "cell_type": "code",
   "execution_count": null,
   "metadata": {},
   "outputs": [],
   "source": []
  },
  {
   "cell_type": "code",
   "execution_count": null,
   "metadata": {},
   "outputs": [],
   "source": []
  },
  {
   "cell_type": "code",
   "execution_count": null,
   "metadata": {},
   "outputs": [],
   "source": []
  },
  {
   "cell_type": "code",
   "execution_count": null,
   "metadata": {},
   "outputs": [],
   "source": []
  },
  {
   "cell_type": "code",
   "execution_count": null,
   "metadata": {},
   "outputs": [],
   "source": []
  },
  {
   "cell_type": "code",
   "execution_count": null,
   "metadata": {},
   "outputs": [],
   "source": []
  },
  {
   "cell_type": "code",
   "execution_count": null,
   "metadata": {},
   "outputs": [],
   "source": []
  },
  {
   "cell_type": "code",
   "execution_count": null,
   "metadata": {},
   "outputs": [],
   "source": []
  },
  {
   "cell_type": "code",
   "execution_count": null,
   "metadata": {},
   "outputs": [],
   "source": []
  },
  {
   "cell_type": "code",
   "execution_count": null,
   "metadata": {},
   "outputs": [],
   "source": []
  },
  {
   "cell_type": "code",
   "execution_count": null,
   "metadata": {},
   "outputs": [],
   "source": []
  },
  {
   "cell_type": "code",
   "execution_count": null,
   "metadata": {},
   "outputs": [],
   "source": []
  },
  {
   "cell_type": "code",
   "execution_count": null,
   "metadata": {},
   "outputs": [],
   "source": []
  },
  {
   "cell_type": "code",
   "execution_count": null,
   "metadata": {},
   "outputs": [],
   "source": []
  },
  {
   "cell_type": "code",
   "execution_count": null,
   "metadata": {},
   "outputs": [],
   "source": []
  },
  {
   "cell_type": "code",
   "execution_count": null,
   "metadata": {},
   "outputs": [],
   "source": []
  },
  {
   "cell_type": "code",
   "execution_count": null,
   "metadata": {},
   "outputs": [],
   "source": []
  },
  {
   "cell_type": "code",
   "execution_count": null,
   "metadata": {},
   "outputs": [],
   "source": []
  },
  {
   "cell_type": "code",
   "execution_count": null,
   "metadata": {},
   "outputs": [],
   "source": []
  },
  {
   "cell_type": "code",
   "execution_count": null,
   "metadata": {},
   "outputs": [],
   "source": []
  },
  {
   "cell_type": "code",
   "execution_count": null,
   "metadata": {},
   "outputs": [],
   "source": []
  },
  {
   "cell_type": "code",
   "execution_count": null,
   "metadata": {},
   "outputs": [],
   "source": []
  },
  {
   "cell_type": "code",
   "execution_count": null,
   "metadata": {},
   "outputs": [],
   "source": []
  },
  {
   "cell_type": "code",
   "execution_count": null,
   "metadata": {},
   "outputs": [],
   "source": []
  },
  {
   "cell_type": "code",
   "execution_count": null,
   "metadata": {},
   "outputs": [],
   "source": []
  },
  {
   "cell_type": "code",
   "execution_count": null,
   "metadata": {},
   "outputs": [],
   "source": []
  },
  {
   "cell_type": "code",
   "execution_count": null,
   "metadata": {},
   "outputs": [],
   "source": []
  },
  {
   "cell_type": "code",
   "execution_count": null,
   "metadata": {},
   "outputs": [],
   "source": []
  },
  {
   "cell_type": "code",
   "execution_count": null,
   "metadata": {},
   "outputs": [],
   "source": []
  },
  {
   "cell_type": "code",
   "execution_count": null,
   "metadata": {},
   "outputs": [],
   "source": []
  },
  {
   "cell_type": "code",
   "execution_count": null,
   "metadata": {},
   "outputs": [],
   "source": []
  },
  {
   "cell_type": "code",
   "execution_count": null,
   "metadata": {},
   "outputs": [],
   "source": []
  },
  {
   "cell_type": "code",
   "execution_count": null,
   "metadata": {},
   "outputs": [],
   "source": []
  },
  {
   "cell_type": "code",
   "execution_count": null,
   "metadata": {},
   "outputs": [],
   "source": []
  },
  {
   "cell_type": "code",
   "execution_count": null,
   "metadata": {},
   "outputs": [],
   "source": []
  },
  {
   "cell_type": "code",
   "execution_count": null,
   "metadata": {},
   "outputs": [],
   "source": []
  },
  {
   "cell_type": "code",
   "execution_count": null,
   "metadata": {},
   "outputs": [],
   "source": []
  },
  {
   "cell_type": "code",
   "execution_count": null,
   "metadata": {},
   "outputs": [],
   "source": []
  },
  {
   "cell_type": "code",
   "execution_count": null,
   "metadata": {},
   "outputs": [],
   "source": []
  },
  {
   "cell_type": "code",
   "execution_count": null,
   "metadata": {},
   "outputs": [],
   "source": []
  },
  {
   "cell_type": "code",
   "execution_count": null,
   "metadata": {},
   "outputs": [],
   "source": []
  },
  {
   "cell_type": "code",
   "execution_count": null,
   "metadata": {},
   "outputs": [],
   "source": []
  },
  {
   "cell_type": "code",
   "execution_count": null,
   "metadata": {},
   "outputs": [],
   "source": []
  },
  {
   "cell_type": "code",
   "execution_count": null,
   "metadata": {},
   "outputs": [],
   "source": []
  },
  {
   "cell_type": "code",
   "execution_count": null,
   "metadata": {},
   "outputs": [],
   "source": []
  },
  {
   "cell_type": "code",
   "execution_count": null,
   "metadata": {},
   "outputs": [],
   "source": []
  },
  {
   "cell_type": "code",
   "execution_count": null,
   "metadata": {},
   "outputs": [],
   "source": []
  },
  {
   "cell_type": "code",
   "execution_count": null,
   "metadata": {},
   "outputs": [],
   "source": []
  },
  {
   "cell_type": "code",
   "execution_count": null,
   "metadata": {},
   "outputs": [],
   "source": []
  },
  {
   "cell_type": "code",
   "execution_count": null,
   "metadata": {},
   "outputs": [],
   "source": []
  },
  {
   "cell_type": "code",
   "execution_count": null,
   "metadata": {},
   "outputs": [],
   "source": []
  },
  {
   "cell_type": "code",
   "execution_count": null,
   "metadata": {},
   "outputs": [],
   "source": []
  },
  {
   "cell_type": "code",
   "execution_count": null,
   "metadata": {},
   "outputs": [],
   "source": []
  },
  {
   "cell_type": "code",
   "execution_count": null,
   "metadata": {},
   "outputs": [],
   "source": []
  },
  {
   "cell_type": "code",
   "execution_count": null,
   "metadata": {},
   "outputs": [],
   "source": []
  },
  {
   "cell_type": "code",
   "execution_count": null,
   "metadata": {},
   "outputs": [],
   "source": []
  },
  {
   "cell_type": "code",
   "execution_count": null,
   "metadata": {},
   "outputs": [],
   "source": []
  },
  {
   "cell_type": "code",
   "execution_count": null,
   "metadata": {},
   "outputs": [],
   "source": []
  },
  {
   "cell_type": "code",
   "execution_count": null,
   "metadata": {},
   "outputs": [],
   "source": []
  },
  {
   "cell_type": "code",
   "execution_count": null,
   "metadata": {},
   "outputs": [],
   "source": []
  },
  {
   "cell_type": "code",
   "execution_count": null,
   "metadata": {},
   "outputs": [],
   "source": []
  },
  {
   "cell_type": "code",
   "execution_count": null,
   "metadata": {},
   "outputs": [],
   "source": []
  },
  {
   "cell_type": "code",
   "execution_count": null,
   "metadata": {},
   "outputs": [],
   "source": []
  },
  {
   "cell_type": "code",
   "execution_count": null,
   "metadata": {},
   "outputs": [],
   "source": []
  },
  {
   "cell_type": "code",
   "execution_count": null,
   "metadata": {},
   "outputs": [],
   "source": []
  },
  {
   "cell_type": "code",
   "execution_count": null,
   "metadata": {},
   "outputs": [],
   "source": []
  },
  {
   "cell_type": "code",
   "execution_count": null,
   "metadata": {},
   "outputs": [],
   "source": []
  },
  {
   "cell_type": "code",
   "execution_count": null,
   "metadata": {},
   "outputs": [],
   "source": []
  },
  {
   "cell_type": "code",
   "execution_count": null,
   "metadata": {},
   "outputs": [],
   "source": []
  },
  {
   "cell_type": "code",
   "execution_count": null,
   "metadata": {},
   "outputs": [],
   "source": []
  },
  {
   "cell_type": "code",
   "execution_count": null,
   "metadata": {},
   "outputs": [],
   "source": []
  },
  {
   "cell_type": "code",
   "execution_count": null,
   "metadata": {},
   "outputs": [],
   "source": []
  },
  {
   "cell_type": "code",
   "execution_count": null,
   "metadata": {},
   "outputs": [],
   "source": []
  },
  {
   "cell_type": "code",
   "execution_count": null,
   "metadata": {},
   "outputs": [],
   "source": []
  },
  {
   "cell_type": "code",
   "execution_count": null,
   "metadata": {
    "scrolled": true
   },
   "outputs": [],
   "source": []
  },
  {
   "cell_type": "code",
   "execution_count": null,
   "metadata": {},
   "outputs": [],
   "source": []
  },
  {
   "cell_type": "code",
   "execution_count": null,
   "metadata": {},
   "outputs": [],
   "source": []
  },
  {
   "cell_type": "code",
   "execution_count": null,
   "metadata": {},
   "outputs": [],
   "source": []
  },
  {
   "cell_type": "code",
   "execution_count": null,
   "metadata": {},
   "outputs": [],
   "source": []
  },
  {
   "cell_type": "code",
   "execution_count": null,
   "metadata": {},
   "outputs": [],
   "source": []
  },
  {
   "cell_type": "code",
   "execution_count": null,
   "metadata": {},
   "outputs": [],
   "source": []
  },
  {
   "cell_type": "code",
   "execution_count": null,
   "metadata": {},
   "outputs": [],
   "source": []
  },
  {
   "cell_type": "code",
   "execution_count": null,
   "metadata": {},
   "outputs": [],
   "source": []
  },
  {
   "cell_type": "code",
   "execution_count": null,
   "metadata": {},
   "outputs": [],
   "source": []
  },
  {
   "cell_type": "code",
   "execution_count": null,
   "metadata": {},
   "outputs": [],
   "source": []
  },
  {
   "cell_type": "code",
   "execution_count": null,
   "metadata": {},
   "outputs": [],
   "source": []
  },
  {
   "cell_type": "code",
   "execution_count": null,
   "metadata": {},
   "outputs": [],
   "source": []
  },
  {
   "cell_type": "code",
   "execution_count": null,
   "metadata": {},
   "outputs": [],
   "source": []
  },
  {
   "cell_type": "code",
   "execution_count": null,
   "metadata": {},
   "outputs": [],
   "source": []
  },
  {
   "cell_type": "code",
   "execution_count": null,
   "metadata": {},
   "outputs": [],
   "source": []
  },
  {
   "cell_type": "code",
   "execution_count": null,
   "metadata": {},
   "outputs": [],
   "source": []
  },
  {
   "cell_type": "code",
   "execution_count": null,
   "metadata": {},
   "outputs": [],
   "source": []
  },
  {
   "cell_type": "code",
   "execution_count": null,
   "metadata": {},
   "outputs": [],
   "source": []
  },
  {
   "cell_type": "code",
   "execution_count": null,
   "metadata": {},
   "outputs": [],
   "source": []
  },
  {
   "cell_type": "code",
   "execution_count": null,
   "metadata": {},
   "outputs": [],
   "source": []
  },
  {
   "cell_type": "code",
   "execution_count": null,
   "metadata": {},
   "outputs": [],
   "source": []
  },
  {
   "cell_type": "code",
   "execution_count": null,
   "metadata": {},
   "outputs": [],
   "source": []
  },
  {
   "cell_type": "code",
   "execution_count": null,
   "metadata": {},
   "outputs": [],
   "source": []
  },
  {
   "cell_type": "code",
   "execution_count": null,
   "metadata": {},
   "outputs": [],
   "source": []
  },
  {
   "cell_type": "code",
   "execution_count": null,
   "metadata": {},
   "outputs": [],
   "source": []
  },
  {
   "cell_type": "code",
   "execution_count": null,
   "metadata": {},
   "outputs": [],
   "source": []
  },
  {
   "cell_type": "code",
   "execution_count": null,
   "metadata": {},
   "outputs": [],
   "source": [
    "\n"
   ]
  },
  {
   "cell_type": "code",
   "execution_count": null,
   "metadata": {},
   "outputs": [],
   "source": []
  },
  {
   "cell_type": "code",
   "execution_count": null,
   "metadata": {},
   "outputs": [],
   "source": []
  },
  {
   "cell_type": "code",
   "execution_count": null,
   "metadata": {},
   "outputs": [],
   "source": []
  },
  {
   "cell_type": "code",
   "execution_count": null,
   "metadata": {},
   "outputs": [],
   "source": []
  },
  {
   "cell_type": "code",
   "execution_count": null,
   "metadata": {},
   "outputs": [],
   "source": []
  },
  {
   "cell_type": "code",
   "execution_count": null,
   "metadata": {},
   "outputs": [],
   "source": []
  },
  {
   "cell_type": "code",
   "execution_count": null,
   "metadata": {},
   "outputs": [],
   "source": []
  },
  {
   "cell_type": "code",
   "execution_count": null,
   "metadata": {},
   "outputs": [],
   "source": []
  },
  {
   "cell_type": "code",
   "execution_count": null,
   "metadata": {},
   "outputs": [],
   "source": []
  },
  {
   "cell_type": "code",
   "execution_count": null,
   "metadata": {},
   "outputs": [],
   "source": []
  },
  {
   "cell_type": "code",
   "execution_count": null,
   "metadata": {},
   "outputs": [],
   "source": []
  },
  {
   "cell_type": "code",
   "execution_count": null,
   "metadata": {},
   "outputs": [],
   "source": []
  },
  {
   "cell_type": "code",
   "execution_count": null,
   "metadata": {},
   "outputs": [],
   "source": []
  },
  {
   "cell_type": "code",
   "execution_count": null,
   "metadata": {},
   "outputs": [],
   "source": []
  },
  {
   "cell_type": "code",
   "execution_count": null,
   "metadata": {},
   "outputs": [],
   "source": []
  },
  {
   "cell_type": "code",
   "execution_count": null,
   "metadata": {},
   "outputs": [],
   "source": []
  },
  {
   "cell_type": "code",
   "execution_count": null,
   "metadata": {},
   "outputs": [],
   "source": []
  },
  {
   "cell_type": "code",
   "execution_count": null,
   "metadata": {},
   "outputs": [],
   "source": []
  },
  {
   "cell_type": "code",
   "execution_count": null,
   "metadata": {},
   "outputs": [],
   "source": []
  },
  {
   "cell_type": "code",
   "execution_count": null,
   "metadata": {},
   "outputs": [],
   "source": []
  },
  {
   "cell_type": "code",
   "execution_count": null,
   "metadata": {},
   "outputs": [],
   "source": []
  },
  {
   "cell_type": "code",
   "execution_count": null,
   "metadata": {},
   "outputs": [],
   "source": []
  },
  {
   "cell_type": "code",
   "execution_count": null,
   "metadata": {},
   "outputs": [],
   "source": []
  },
  {
   "cell_type": "code",
   "execution_count": null,
   "metadata": {},
   "outputs": [],
   "source": []
  },
  {
   "cell_type": "code",
   "execution_count": null,
   "metadata": {},
   "outputs": [],
   "source": []
  },
  {
   "cell_type": "code",
   "execution_count": null,
   "metadata": {},
   "outputs": [],
   "source": []
  },
  {
   "cell_type": "code",
   "execution_count": null,
   "metadata": {},
   "outputs": [],
   "source": []
  },
  {
   "cell_type": "code",
   "execution_count": null,
   "metadata": {},
   "outputs": [],
   "source": []
  },
  {
   "cell_type": "code",
   "execution_count": null,
   "metadata": {},
   "outputs": [],
   "source": []
  },
  {
   "cell_type": "code",
   "execution_count": null,
   "metadata": {},
   "outputs": [],
   "source": []
  },
  {
   "cell_type": "code",
   "execution_count": null,
   "metadata": {},
   "outputs": [],
   "source": []
  },
  {
   "cell_type": "code",
   "execution_count": null,
   "metadata": {},
   "outputs": [],
   "source": []
  },
  {
   "cell_type": "code",
   "execution_count": null,
   "metadata": {},
   "outputs": [],
   "source": []
  },
  {
   "cell_type": "code",
   "execution_count": null,
   "metadata": {},
   "outputs": [],
   "source": []
  },
  {
   "cell_type": "code",
   "execution_count": null,
   "metadata": {},
   "outputs": [],
   "source": []
  },
  {
   "cell_type": "code",
   "execution_count": null,
   "metadata": {},
   "outputs": [],
   "source": []
  },
  {
   "cell_type": "code",
   "execution_count": null,
   "metadata": {},
   "outputs": [],
   "source": []
  },
  {
   "cell_type": "code",
   "execution_count": null,
   "metadata": {},
   "outputs": [],
   "source": []
  },
  {
   "cell_type": "code",
   "execution_count": null,
   "metadata": {},
   "outputs": [],
   "source": []
  },
  {
   "cell_type": "code",
   "execution_count": null,
   "metadata": {},
   "outputs": [],
   "source": []
  },
  {
   "cell_type": "code",
   "execution_count": null,
   "metadata": {},
   "outputs": [],
   "source": []
  },
  {
   "cell_type": "code",
   "execution_count": null,
   "metadata": {},
   "outputs": [],
   "source": []
  },
  {
   "cell_type": "code",
   "execution_count": null,
   "metadata": {},
   "outputs": [],
   "source": []
  },
  {
   "cell_type": "code",
   "execution_count": null,
   "metadata": {},
   "outputs": [],
   "source": []
  },
  {
   "cell_type": "code",
   "execution_count": null,
   "metadata": {},
   "outputs": [],
   "source": []
  },
  {
   "cell_type": "code",
   "execution_count": null,
   "metadata": {},
   "outputs": [],
   "source": []
  },
  {
   "cell_type": "code",
   "execution_count": null,
   "metadata": {},
   "outputs": [],
   "source": []
  },
  {
   "cell_type": "code",
   "execution_count": null,
   "metadata": {},
   "outputs": [],
   "source": []
  },
  {
   "cell_type": "code",
   "execution_count": null,
   "metadata": {},
   "outputs": [],
   "source": []
  },
  {
   "cell_type": "code",
   "execution_count": null,
   "metadata": {},
   "outputs": [],
   "source": []
  },
  {
   "cell_type": "code",
   "execution_count": null,
   "metadata": {},
   "outputs": [],
   "source": []
  },
  {
   "cell_type": "code",
   "execution_count": null,
   "metadata": {},
   "outputs": [],
   "source": []
  },
  {
   "cell_type": "code",
   "execution_count": null,
   "metadata": {},
   "outputs": [],
   "source": []
  },
  {
   "cell_type": "code",
   "execution_count": null,
   "metadata": {},
   "outputs": [],
   "source": []
  },
  {
   "cell_type": "code",
   "execution_count": null,
   "metadata": {},
   "outputs": [],
   "source": []
  },
  {
   "cell_type": "code",
   "execution_count": null,
   "metadata": {},
   "outputs": [],
   "source": []
  },
  {
   "cell_type": "code",
   "execution_count": null,
   "metadata": {},
   "outputs": [],
   "source": []
  },
  {
   "cell_type": "code",
   "execution_count": null,
   "metadata": {},
   "outputs": [],
   "source": []
  },
  {
   "cell_type": "code",
   "execution_count": null,
   "metadata": {},
   "outputs": [],
   "source": []
  },
  {
   "cell_type": "code",
   "execution_count": null,
   "metadata": {},
   "outputs": [],
   "source": []
  },
  {
   "cell_type": "raw",
   "metadata": {},
   "source": []
  }
 ],
 "metadata": {
  "kernelspec": {
   "display_name": "Python 3",
   "language": "python",
   "name": "python3"
  },
  "language_info": {
   "codemirror_mode": {
    "name": "ipython",
    "version": 3
   },
   "file_extension": ".py",
   "mimetype": "text/x-python",
   "name": "python",
   "nbconvert_exporter": "python",
   "pygments_lexer": "ipython3",
   "version": "3.7.6"
  }
 },
 "nbformat": 4,
 "nbformat_minor": 4
}
